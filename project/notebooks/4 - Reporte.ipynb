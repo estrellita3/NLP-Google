{
 "cells": [
  {
   "cell_type": "code",
   "execution_count": 49,
   "metadata": {},
   "outputs": [],
   "source": [
    "import matplotlib.pyplot as plt\n",
    "import pandas as pd\n",
    "import seaborn as sns\n",
    "\n",
    "from sklearn.metrics import accuracy_score, confusion_matrix, classification_report, plot_confusion_matrix, precision_recall_curve"
   ]
  },
  {
   "cell_type": "markdown",
   "metadata": {},
   "source": [
    "# Carga de resultados"
   ]
  },
  {
   "cell_type": "code",
   "execution_count": 42,
   "metadata": {},
   "outputs": [],
   "source": [
    "df_preds = pd.read_csv('../results/preds.csv')"
   ]
  },
  {
   "cell_type": "code",
   "execution_count": 43,
   "metadata": {},
   "outputs": [
    {
     "data": {
      "text/html": [
       "<div>\n",
       "<style scoped>\n",
       "    .dataframe tbody tr th:only-of-type {\n",
       "        vertical-align: middle;\n",
       "    }\n",
       "\n",
       "    .dataframe tbody tr th {\n",
       "        vertical-align: top;\n",
       "    }\n",
       "\n",
       "    .dataframe thead th {\n",
       "        text-align: right;\n",
       "    }\n",
       "</style>\n",
       "<table border=\"1\" class=\"dataframe\">\n",
       "  <thead>\n",
       "    <tr style=\"text-align: right;\">\n",
       "      <th></th>\n",
       "      <th>y_actual</th>\n",
       "      <th>y_pred_test_lr</th>\n",
       "      <th>y_pred_proba_test_lr</th>\n",
       "      <th>y_pred_test_mnb</th>\n",
       "      <th>y_pred_proba_test_mnb</th>\n",
       "    </tr>\n",
       "  </thead>\n",
       "  <tbody>\n",
       "    <tr>\n",
       "      <th>0</th>\n",
       "      <td>0</td>\n",
       "      <td>0</td>\n",
       "      <td>0.467972</td>\n",
       "      <td>0</td>\n",
       "      <td>0.424974</td>\n",
       "    </tr>\n",
       "    <tr>\n",
       "      <th>1</th>\n",
       "      <td>1</td>\n",
       "      <td>1</td>\n",
       "      <td>0.680920</td>\n",
       "      <td>1</td>\n",
       "      <td>0.528030</td>\n",
       "    </tr>\n",
       "    <tr>\n",
       "      <th>2</th>\n",
       "      <td>1</td>\n",
       "      <td>1</td>\n",
       "      <td>0.976586</td>\n",
       "      <td>1</td>\n",
       "      <td>0.924118</td>\n",
       "    </tr>\n",
       "    <tr>\n",
       "      <th>3</th>\n",
       "      <td>0</td>\n",
       "      <td>0</td>\n",
       "      <td>0.217602</td>\n",
       "      <td>0</td>\n",
       "      <td>0.337869</td>\n",
       "    </tr>\n",
       "    <tr>\n",
       "      <th>4</th>\n",
       "      <td>0</td>\n",
       "      <td>0</td>\n",
       "      <td>0.458423</td>\n",
       "      <td>0</td>\n",
       "      <td>0.449987</td>\n",
       "    </tr>\n",
       "  </tbody>\n",
       "</table>\n",
       "</div>"
      ],
      "text/plain": [
       "   y_actual  y_pred_test_lr  y_pred_proba_test_lr  y_pred_test_mnb  \\\n",
       "0         0               0              0.467972                0   \n",
       "1         1               1              0.680920                1   \n",
       "2         1               1              0.976586                1   \n",
       "3         0               0              0.217602                0   \n",
       "4         0               0              0.458423                0   \n",
       "\n",
       "   y_pred_proba_test_mnb  \n",
       "0               0.424974  \n",
       "1               0.528030  \n",
       "2               0.924118  \n",
       "3               0.337869  \n",
       "4               0.449987  "
      ]
     },
     "execution_count": 43,
     "metadata": {},
     "output_type": "execute_result"
    }
   ],
   "source": [
    "df_preds.head()"
   ]
  },
  {
   "cell_type": "markdown",
   "metadata": {},
   "source": [
    "# Métricas"
   ]
  },
  {
   "cell_type": "markdown",
   "metadata": {},
   "source": [
    "## Accuracy"
   ]
  },
  {
   "cell_type": "code",
   "execution_count": 31,
   "metadata": {},
   "outputs": [
    {
     "data": {
      "text/plain": [
       "0.7934347477982386"
      ]
     },
     "execution_count": 31,
     "metadata": {},
     "output_type": "execute_result"
    }
   ],
   "source": [
    "accuracy_score(df_preds['y_actual'], df_preds['y_pred_lr'])"
   ]
  },
  {
   "cell_type": "markdown",
   "metadata": {},
   "source": [
    "## Matriz de confusión"
   ]
  },
  {
   "cell_type": "code",
   "execution_count": 32,
   "metadata": {},
   "outputs": [
    {
     "data": {
      "text/plain": [
       "array([[1463,  410],\n",
       "       [ 364, 1510]])"
      ]
     },
     "execution_count": 32,
     "metadata": {},
     "output_type": "execute_result"
    }
   ],
   "source": [
    "conf_matrix = confusion_matrix(df_preds['y_actual'], df_preds['y_pred_lr'])\n",
    "conf_matrix"
   ]
  },
  {
   "cell_type": "code",
   "execution_count": 33,
   "metadata": {},
   "outputs": [
    {
     "data": {
      "image/png": "[encoded data removed]",
      "text/plain": [
       "<Figure size 432x288 with 2 Axes>"
      ]
     },
     "metadata": {
      "needs_background": "light"
     },
     "output_type": "display_data"
    }
   ],
   "source": [
    "ax = sns.heatmap(\n",
    "    conf_matrix,\n",
    "    cmap=\"YlGnBu\", \n",
    "    annot=True, \n",
    "    fmt=\".0f\", \n",
    "    xticklabels=['Pred 0','Pred 1'],\n",
    "    yticklabels=['True 0','True 1']\n",
    ").set_title('Matriz de confusión')"
   ]
  },
  {
   "cell_type": "markdown",
   "metadata": {},
   "source": [
    "## Classification report"
   ]
  },
  {
   "cell_type": "code",
   "execution_count": 35,
   "metadata": {},
   "outputs": [
    {
     "name": "stdout",
     "output_type": "stream",
     "text": [
      "              precision    recall  f1-score   support\n",
      "\n",
      "           0       0.80      0.78      0.79      1873\n",
      "           1       0.79      0.81      0.80      1874\n",
      "\n",
      "    accuracy                           0.79      3747\n",
      "   macro avg       0.79      0.79      0.79      3747\n",
      "weighted avg       0.79      0.79      0.79      3747\n",
      "\n"
     ]
    }
   ],
   "source": [
    "print(classification_report(df_preds['y_actual'], df_preds['y_pred_lr']))"
   ]
  },
  {
   "cell_type": "markdown",
   "metadata": {},
   "source": [
    "## Precision y Recall para diferentes valores de cut-off"
   ]
  },
  {
   "cell_type": "code",
   "execution_count": 64,
   "metadata": {},
   "outputs": [],
   "source": [
    "def plot_precision_recall_vs_threshold(precisions, recalls, thresholds):\n",
    "    \"\"\"\n",
    "    Modified from:\n",
    "    Hands-On Machine learning with Scikit-Learn\n",
    "    and TensorFlow; p.89\n",
    "    \"\"\"\n",
    "    plt.figure(figsize=(8, 8))\n",
    "    plt.title(\"Precision and Recall Scores as a function of the decision threshold\")\n",
    "    plt.plot(thresholds, precisions[:-1], \"b--\", label=\"Precision\")\n",
    "    plt.plot(thresholds, recalls[:-1], \"g-\", label=\"Recall\")\n",
    "    plt.ylabel(\"Score\")\n",
    "    plt.xlabel(\"Decision Threshold\")\n",
    "    plt.axvline(0.5, color='orange', ls='--')\n",
    "    plt.legend(loc='best')"
   ]
  },
  {
   "cell_type": "code",
   "execution_count": 65,
   "metadata": {
    "scrolled": true
   },
   "outputs": [],
   "source": [
    "p, r, thresholds = precision_recall_curve(df_preds['y_actual'], df_preds['y_pred_proba_test_lr'])"
   ]
  },
  {
   "cell_type": "code",
   "execution_count": 66,
   "metadata": {},
   "outputs": [
    {
     "data": {
      "image/png": "[encoded data removed]",
      "text/plain": [
       "<Figure size 576x576 with 1 Axes>"
      ]
     },
     "metadata": {
      "needs_background": "light"
     },
     "output_type": "display_data"
    }
   ],
   "source": [
    "plot_precision_recall_vs_threshold(p, r, thresholds)"
   ]
  },
  {
   "cell_type": "markdown",
   "metadata": {},
   "source": [
    "# Conclusiones"
   ]
  },
  {
   "cell_type": "markdown",
   "metadata": {},
   "source": [
    "- La tasa de falsos positivos y de falsos negativos es muy similar. Para un caso como el de análisis de sentimiento, donde el foco suele ser la detección de reviews negativas, sería interesante ajustar el enfoque para reducir la tasa de falsos negativos.\n",
    "- El modelo, en términos de precision y recall, funciona de manera similar para ambas clases (reviews negativas y positivas). Esto nos permite afirmar que el modelo parece generalizar bien para ambas clases lo que es una muy buena noticia.\n",
    "- El umbral de decisión por defecto es 0.5. Modificar este valor nos permite ajustar nuestras predicciones mejorando las predicciones tomando como referencia el recall, pero perdiendo, por contra, precision (y viceversa). Observando la gráfica donde se representa la evolución del recall / precision en función del cut-off escogido podemos ver como valores mayores que 0.5 hacen que el recall se degrade en exceso. Valores menores de 0.5, pese a permitirnos obtener un recall mayor, hacen que la precision sea mucho menor en comparación. Por tanto, valores cercanos a 0.5 (idealmente algo por encima) serán los que mejores resultados nos permitan obtener.\n",
    "- Posibles futuros pasos:\n",
    "    - Validar resultados con un conjunto mayor de test\n",
    "    - Repetir el ejercicio con conjuntos de train / test mayores\n",
    "    - Evaluar los resultados al modificar los porcentajes de reviews empleadas para train / test con el objetivo de encontrar un valor pseudo-óptimo\n",
    "    - Probar otras familias de modelos (árboles, boosting, redes neuronales...)"
   ]
  },
  {
   "cell_type": "code",
   "execution_count": null,
   "metadata": {},
   "outputs": [],
   "source": []
  }
 ],
 "metadata": {
  "kernelspec": {
   "display_name": "Python 3",
   "language": "python",
   "name": "python3"
  },
  "language_info": {
   "codemirror_mode": {
    "name": "ipython",
    "version": 3
   },
   "file_extension": ".py",
   "mimetype": "text/x-python",
   "name": "python",
   "nbconvert_exporter": "python",
   "pygments_lexer": "ipython3",
   "version": "3.8.5"
  }
 },
 "nbformat": 4,
 "nbformat_minor": 4
}
