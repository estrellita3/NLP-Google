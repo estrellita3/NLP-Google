{
 "cells": [
  {
   "cell_type": "markdown",
   "metadata": {},
   "source": [
    "# Librerías necesarias"
   ]
  },
  {
   "cell_type": "code",
   "execution_count": 25,
   "metadata": {},
   "outputs": [],
   "source": [
    "import sys\n",
    "sys.path.append('../..')\n",
    "\n",
    "from utils import load_cinema_reviews\n",
    "\n",
    "import random\n",
    "import numpy as np\n",
    "import pandas as pd\n",
    "\n",
    "from sklearn.model_selection import train_test_split\n",
    "from sklearn.pipeline import Pipeline\n",
    "from sklearn.feature_extraction.text import CountVectorizer, TfidfVectorizer\n",
    "from sklearn.feature_selection import chi2\n",
    "from sklearn.linear_model import LogisticRegression\n",
    "from sklearn.metrics import accuracy_score, confusion_matrix, classification_report, roc_curve, precision_recall_curve\n",
    "\n",
    "import matplotlib.pyplot as plt"
   ]
  },
  {
   "cell_type": "markdown",
   "metadata": {},
   "source": [
    "# Carga de datos"
   ]
  },
  {
   "cell_type": "code",
   "execution_count": 2,
   "metadata": {},
   "outputs": [],
   "source": [
    "# Path al directorio donde tenemos los datasets con las reviews\n",
    "# ¡Descomprimir antes!\n",
    "datasets_path = '../../datasets'\n",
    "corpus_cine_folder = 'corpusCine'"
   ]
  },
  {
   "cell_type": "code",
   "execution_count": 3,
   "metadata": {},
   "outputs": [],
   "source": [
    "reviews_dict = load_cinema_reviews(datasets_path, corpus_cine_folder)"
   ]
  },
  {
   "cell_type": "code",
   "execution_count": 4,
   "metadata": {
    "scrolled": true
   },
   "outputs": [
    {
     "data": {
      "text/plain": [
       "{'author': 'Javier Moreno',\n",
       " 'title': 'Harry poter y el caliz de fuego',\n",
       " 'sentiment': '4',\n",
       " 'summary': 'Interesante adaptación de la novela de Rowling',\n",
       " 'review_text': 'No. Esta vez no voy a usar una película como pretexto para exponer mis ideas o pensamientos mas dementes/racionales/insensatos. Esta vez, y lo juro ante el sagrado Necronomicón de Lovecraft, pienso hablar de la película en si (por primera vez y esperando que no sirva de precedente), aunque creo que es evidente que prefiero que una película me haga reflexionar sobre cualquier aspecto que en ella se de cita. Quizas algún dia hable sobre todo lo que significa la saga de novelas de Rowling (anda que no tengo cosas de las que hablar) desde una perspectiva menos mitológica y mas profunda.Parto de la base de que soy un autentico fan de los libros, los adoro, me parecen de lo mejorcito que ha salido en fantasia, con un personaje principal realmente interesante y atormentado a todos los niveles por todo lo que su no-existencia está implicando. Parto de la base, que cuando se adapta un libro a la gran pantalla, lo que menos me interesa es su posible fidelidad o no (aunque seria un autentico hipócrita si negara que me importa un bledo). Parto de la base, que lo que mas me gusta ver en una adaptación, es ver plasmado en imagenes lo que los libros me sugirieron con palabras.Tras estas premisas, indico como preludio, que las adaptaciones de Columbus me parecieron bastante interesantes, acordes con lo que los libros narran y reflejando en imagenes todo lo que disfruté en cada uno de los dos volumenes llevados a la gran pantalla por el director de solo en casa. Tambien me gustaria indicar, que la tercera pelicula, dirigida por Alfonso Cuaron, si bien a nivel tecnico me parecio bastante sorprendente (a excepción de ese anorexico hombre lobo), no me acabó de convencer, es mas, me defraudó muchisimo, porque no vi el espiritu de la novela reflejado en la pantalla. Rowling puede decir que la pelicula le encanta y mil cosas mas, pero si a mi me ponen un cheque de 10 millones de dolares sobre la mesa, digo si hace falta que dios existe por mucho que traicione todo lo que la novela implicaba.Con estas breves reseñas, y como indicaba, tras el fiasco sufrido con Harry Potter y el prisionero de Azkaban, he acudido al cine, sin ninguna información (no queria sentirme influido a ningún nivel, ni predispuesto a sentirme decepcionado, ni predispuesto a sentirme satisfecho) a ver la cuarta película del mago huerfano. ¿Que me he encontrado en la película?, pues no mucho, lo que mas me a sorprendido es que un libro de 650 paginas, aun habiendo obviado ciertos pasajes, haya sido mas que correctamente sintetizado en 150 minutos de pelicula, me he encontrado con un director, Mike Newell (realizador entre otras de Cuatro bodas y un funeral, y a priori el menos indicado para una película como esta), que a sabido trasladar la idea global que inspiraba la novela a los 35mm. Sorprendente sin lugar a dudas. Me he encontrado tambien con unos individuos que representaban en las anteriores peliculas a los personajes de las novelas actuando minimamente, aunque Daniel Radcliffe tenga menos talento que la araña a la cual Ojoloco Moody le lanza las maldiciones imperdonables. Mucho efecto visual -inevitable-, absolutamente apabullantes y en ocasiones excelentes (con especial mención para el colacuerno hungaro), buen ritmo narrativo, y algunas escenas que precisaban de mas metraje (especialmente el ataque de los mortifagos, que con lo genial que queda su entrada en escena, uno desea mucho mas). En USA el filme a sido calificado PG-13, en España PG-7. Bueno, es cierto que es muy oscura (algo por otra parte heredero del espiritu de la novela -y me estoy repitiendo con el jodido espiritu-), tiene momentos \"terrorificos\" como la citada aparición de los mortifagos en los mundiales de quidditch y tiene momentos divertidos. Eso es la película, los fans mas radicales de Harry Potter la amarán, los fans mas puristas la repudiaran, entre los menos radicales habrá gente a la que le guste y otra a la que le deje indiferente, y a los que no se han leido las novelas pues les parecera entretenida. Yo, que siendo seguidor de los libros, prefiero situarme en un termino medio, ni tan increible como estoy leyendo por ahi, ni tan mala como se podría esperar viniendo del director que viene. Una película interesante que a mi modo de ver mejora muchisimo el fiasco de Cuarón.De todas formas, dentro de 20 años, veremos si la saga cinematográfica del mago londinense sigue siendo recordada o se quedará en el olvido mas absoluto. Será digno de verlo, si se me permite una reflexión rapida.. soy de los que piensan que los filmes no aguantarán el paso del tiempo como si lo harán las novelas.Y por ultimo, recomendaciones para los productores, para la orden del fenix olvidaros de David Yates y contratad a Guillermo del Toro, para the half blood prince yo apostaria por un Shane Carruth (director de Primer) y para el septimo libro, aun sin haberlo leido, Darren Aronofsky, del cual una vez mas reivindico el urgente estreno de The fountain, que servidor, desde que vio Requiem por un sueño, ansia ver la tercera obra maestra de este director tan destroyer.PD: En caso de no ser Aronofsky, un Takashi Miike seria tremendo.'}"
      ]
     },
     "execution_count": 4,
     "metadata": {},
     "output_type": "execute_result"
    }
   ],
   "source": [
    "reviews_dict.get(10)"
   ]
  },
  {
   "cell_type": "code",
   "execution_count": 5,
   "metadata": {},
   "outputs": [],
   "source": [
    "reviews_text = []\n",
    "reviews_sentiment = []\n",
    "\n",
    "for review in reviews_dict.values():\n",
    "    reviews_text.append(review.get('review_text'))\n",
    "    reviews_sentiment.append(review.get('sentiment'))\n",
    "\n",
    "df = pd.DataFrame({\n",
    "    'review': reviews_text,\n",
    "    'sentiment': reviews_sentiment\n",
    "})\n",
    "df.dropna(subset=['review', 'sentiment'], inplace=True)\n",
    "df.reset_index(drop=True, inplace=True)"
   ]
  },
  {
   "cell_type": "code",
   "execution_count": 6,
   "metadata": {},
   "outputs": [
    {
     "data": {
      "text/html": [
       "<div>\n",
       "<style scoped>\n",
       "    .dataframe tbody tr th:only-of-type {\n",
       "        vertical-align: middle;\n",
       "    }\n",
       "\n",
       "    .dataframe tbody tr th {\n",
       "        vertical-align: top;\n",
       "    }\n",
       "\n",
       "    .dataframe thead th {\n",
       "        text-align: right;\n",
       "    }\n",
       "</style>\n",
       "<table border=\"1\" class=\"dataframe\">\n",
       "  <thead>\n",
       "    <tr style=\"text-align: right;\">\n",
       "      <th></th>\n",
       "      <th>review</th>\n",
       "      <th>sentiment</th>\n",
       "    </tr>\n",
       "  </thead>\n",
       "  <tbody>\n",
       "    <tr>\n",
       "      <th>0</th>\n",
       "      <td>Cada vez me gusta menos el cine de masas. Las ...</td>\n",
       "      <td>1</td>\n",
       "    </tr>\n",
       "    <tr>\n",
       "      <th>1</th>\n",
       "      <td>El otro dia fui a ver \"la de los sioux\" como d...</td>\n",
       "      <td>3</td>\n",
       "    </tr>\n",
       "    <tr>\n",
       "      <th>2</th>\n",
       "      <td>Es que no la cagan en ninguna, todas las pelis...</td>\n",
       "      <td>5</td>\n",
       "    </tr>\n",
       "    <tr>\n",
       "      <th>3</th>\n",
       "      <td>Es un dolor esto del cine. Yo ya voy con miedo...</td>\n",
       "      <td>2</td>\n",
       "    </tr>\n",
       "    <tr>\n",
       "      <th>4</th>\n",
       "      <td>Tras una insufrible primera media hora, la cas...</td>\n",
       "      <td>2</td>\n",
       "    </tr>\n",
       "  </tbody>\n",
       "</table>\n",
       "</div>"
      ],
      "text/plain": [
       "                                              review sentiment\n",
       "0  Cada vez me gusta menos el cine de masas. Las ...         1\n",
       "1  El otro dia fui a ver \"la de los sioux\" como d...         3\n",
       "2  Es que no la cagan en ninguna, todas las pelis...         5\n",
       "3  Es un dolor esto del cine. Yo ya voy con miedo...         2\n",
       "4  Tras una insufrible primera media hora, la cas...         2"
      ]
     },
     "execution_count": 6,
     "metadata": {},
     "output_type": "execute_result"
    }
   ],
   "source": [
    "df.head()"
   ]
  },
  {
   "cell_type": "code",
   "execution_count": 7,
   "metadata": {},
   "outputs": [],
   "source": [
    "def label_sentiment(row):\n",
    "    if int(row['sentiment']) < 3:\n",
    "        return 1\n",
    "    else:\n",
    "        return 0"
   ]
  },
  {
   "cell_type": "code",
   "execution_count": 8,
   "metadata": {
    "scrolled": true
   },
   "outputs": [],
   "source": [
    "df['sentiment_label'] = df.apply(lambda row: label_sentiment(row), axis=1)"
   ]
  },
  {
   "cell_type": "code",
   "execution_count": 9,
   "metadata": {},
   "outputs": [
    {
     "data": {
      "text/html": [
       "<div>\n",
       "<style scoped>\n",
       "    .dataframe tbody tr th:only-of-type {\n",
       "        vertical-align: middle;\n",
       "    }\n",
       "\n",
       "    .dataframe tbody tr th {\n",
       "        vertical-align: top;\n",
       "    }\n",
       "\n",
       "    .dataframe thead th {\n",
       "        text-align: right;\n",
       "    }\n",
       "</style>\n",
       "<table border=\"1\" class=\"dataframe\">\n",
       "  <thead>\n",
       "    <tr style=\"text-align: right;\">\n",
       "      <th></th>\n",
       "      <th>review</th>\n",
       "      <th>sentiment</th>\n",
       "      <th>sentiment_label</th>\n",
       "    </tr>\n",
       "  </thead>\n",
       "  <tbody>\n",
       "    <tr>\n",
       "      <th>0</th>\n",
       "      <td>Cada vez me gusta menos el cine de masas. Las ...</td>\n",
       "      <td>1</td>\n",
       "      <td>1</td>\n",
       "    </tr>\n",
       "    <tr>\n",
       "      <th>1</th>\n",
       "      <td>El otro dia fui a ver \"la de los sioux\" como d...</td>\n",
       "      <td>3</td>\n",
       "      <td>0</td>\n",
       "    </tr>\n",
       "    <tr>\n",
       "      <th>2</th>\n",
       "      <td>Es que no la cagan en ninguna, todas las pelis...</td>\n",
       "      <td>5</td>\n",
       "      <td>0</td>\n",
       "    </tr>\n",
       "    <tr>\n",
       "      <th>3</th>\n",
       "      <td>Es un dolor esto del cine. Yo ya voy con miedo...</td>\n",
       "      <td>2</td>\n",
       "      <td>1</td>\n",
       "    </tr>\n",
       "    <tr>\n",
       "      <th>4</th>\n",
       "      <td>Tras una insufrible primera media hora, la cas...</td>\n",
       "      <td>2</td>\n",
       "      <td>1</td>\n",
       "    </tr>\n",
       "  </tbody>\n",
       "</table>\n",
       "</div>"
      ],
      "text/plain": [
       "                                              review sentiment  \\\n",
       "0  Cada vez me gusta menos el cine de masas. Las ...         1   \n",
       "1  El otro dia fui a ver \"la de los sioux\" como d...         3   \n",
       "2  Es que no la cagan en ninguna, todas las pelis...         5   \n",
       "3  Es un dolor esto del cine. Yo ya voy con miedo...         2   \n",
       "4  Tras una insufrible primera media hora, la cas...         2   \n",
       "\n",
       "   sentiment_label  \n",
       "0                1  \n",
       "1                0  \n",
       "2                0  \n",
       "3                1  \n",
       "4                1  "
      ]
     },
     "execution_count": 9,
     "metadata": {},
     "output_type": "execute_result"
    }
   ],
   "source": [
    "df.head()"
   ]
  },
  {
   "cell_type": "markdown",
   "metadata": {},
   "source": [
    "# Separamos en conjunto de train y test"
   ]
  },
  {
   "cell_type": "code",
   "execution_count": 10,
   "metadata": {},
   "outputs": [],
   "source": [
    "X_train, X_test, y_train, y_test = train_test_split(\n",
    "    df['review'],\n",
    "    df['sentiment_label'],\n",
    "    train_size=0.75,\n",
    "    test_size=0.25,\n",
    "    random_state=42,\n",
    "    shuffle=True\n",
    ")"
   ]
  },
  {
   "cell_type": "code",
   "execution_count": 11,
   "metadata": {},
   "outputs": [
    {
     "data": {
      "text/plain": [
       "1924    Zhang Yimou ya no es el poeta de lo íntimo, el...\n",
       "3250    Las aventuras amorosas del joven Molire es el ...\n",
       "1620    El cientifismo naturalista es un género cinema...\n",
       "907     Quizá esperaba una crítica más demoledora del ...\n",
       "1864    Colateral de Michael Mann desnuda con claridad...\n",
       "3007    No es Gracia Querejeta una directora a la que ...\n",
       "1583    Esta es una de esas extrañas películas que emp...\n",
       "370     Suele ocurrir que cuando alguien pone las expe...\n",
       "2045    Vivian vive en Bucarest, trabaja en una tienda...\n",
       "3601    Algunos filmes pasan a ser de culto por un hec...\n",
       "Name: review, dtype: object"
      ]
     },
     "execution_count": 11,
     "metadata": {},
     "output_type": "execute_result"
    }
   ],
   "source": [
    "X_train.iloc[:10]"
   ]
  },
  {
   "cell_type": "code",
   "execution_count": 12,
   "metadata": {},
   "outputs": [
    {
     "data": {
      "text/plain": [
       "1924    0\n",
       "3250    0\n",
       "1620    1\n",
       "907     1\n",
       "1864    0\n",
       "3007    0\n",
       "1583    0\n",
       "370     0\n",
       "2045    1\n",
       "3601    1\n",
       "Name: sentiment_label, dtype: int64"
      ]
     },
     "execution_count": 12,
     "metadata": {},
     "output_type": "execute_result"
    }
   ],
   "source": [
    "y_train.iloc[:10]"
   ]
  },
  {
   "cell_type": "markdown",
   "metadata": {},
   "source": [
    "# Extracción de features"
   ]
  },
  {
   "cell_type": "code",
   "execution_count": 13,
   "metadata": {
    "scrolled": true
   },
   "outputs": [
    {
     "data": {
      "text/plain": [
       "TfidfVectorizer(max_df=0.95, max_features=2500, min_df=5, strip_accents='ascii')"
      ]
     },
     "execution_count": 13,
     "metadata": {},
     "output_type": "execute_result"
    }
   ],
   "source": [
    "cv = TfidfVectorizer(\n",
    "    max_df=0.95,\n",
    "    min_df=5,\n",
    "    max_features=2500,\n",
    "    strip_accents='ascii',\n",
    "    ngram_range=(1, 1)\n",
    ")\n",
    "cv.fit(X_train)"
   ]
  },
  {
   "cell_type": "code",
   "execution_count": 14,
   "metadata": {},
   "outputs": [
    {
     "name": "stdout",
     "output_type": "stream",
     "text": [
      "[('ya', 2493), ('lo', 1349), ('director', 683), ('alla', 102), ('primeros', 1845), ('ahora', 83), ('visual', 2460), ('maestro', 1376), ('cuyo', 561), ('talento', 2248), ('consiste', 457), ('belleza', 235), ('ejercicio', 748), ('bajo', 215), ('forma', 973), ('entender', 782), ('cine', 368), ('acostumbrados', 49), ('esta', 852), ('al', 86)]\n"
     ]
    }
   ],
   "source": [
    "print(list(cv.vocabulary_.items())[:20])"
   ]
  },
  {
   "cell_type": "code",
   "execution_count": 15,
   "metadata": {},
   "outputs": [
    {
     "name": "stdout",
     "output_type": "stream",
     "text": [
      "2500\n"
     ]
    }
   ],
   "source": [
    "print(len(cv.vocabulary_))"
   ]
  },
  {
   "cell_type": "markdown",
   "metadata": {},
   "source": [
    "## TF-IDF scores del training set y test set"
   ]
  },
  {
   "cell_type": "code",
   "execution_count": 16,
   "metadata": {},
   "outputs": [],
   "source": [
    "X_train_ = cv.transform(X_train)\n",
    "X_test_ = cv.transform(X_test)"
   ]
  },
  {
   "cell_type": "markdown",
   "metadata": {},
   "source": [
    "## Score IDF de algunas palabras"
   ]
  },
  {
   "cell_type": "code",
   "execution_count": 17,
   "metadata": {},
   "outputs": [],
   "source": [
    "words_example = [\n",
    "    'cine',\n",
    "    'pelicula',\n",
    "    'muy',\n",
    "    'y',\n",
    "    'de',\n",
    "    'que',\n",
    "    'potter',\n",
    "    'mala',\n",
    "    'aburrimiento',\n",
    "    'sorprendente',\n",
    "    'aburrir',\n",
    "    'ausdf'\n",
    "]"
   ]
  },
  {
   "cell_type": "code",
   "execution_count": 18,
   "metadata": {
    "scrolled": true
   },
   "outputs": [
    {
     "name": "stdout",
     "output_type": "stream",
     "text": [
      "Palabra             IDF                 \n",
      "cine                1.556\n",
      "pelicula            1.154\n",
      "muy                 1.532\n",
      "y                   OOV                 \n",
      "de                  OOV                 \n",
      "que                 OOV                 \n",
      "potter              5.005\n",
      "mala                3.155\n",
      "aburrimiento        4.727\n",
      "sorprendente        4.275\n",
      "aburrir             OOV                 \n",
      "ausdf               OOV                 \n"
     ]
    }
   ],
   "source": [
    "vocab_idf = dict(zip(cv.get_feature_names(), cv.idf_))\n",
    "\n",
    "print('{0:20}{1:20}'.format('Palabra', 'IDF'))\n",
    "for word in words_example:\n",
    "    if word not in vocab_idf:\n",
    "        print('{0:20}{1:20}'.format(word, 'OOV'))\n",
    "    else:\n",
    "        print('{0:20}{1:2.3f}'.format(word, vocab_idf[word]))"
   ]
  },
  {
   "cell_type": "markdown",
   "metadata": {},
   "source": [
    "## Palabras con el TF-IDF en alguna review"
   ]
  },
  {
   "cell_type": "code",
   "execution_count": 19,
   "metadata": {
    "scrolled": true
   },
   "outputs": [
    {
     "name": "stdout",
     "output_type": "stream",
     "text": [
      "ID: 1231\n",
      "Sentiment: 1\n",
      "Review: El cine es el hogar de las leyendas. En el celuloide nacen, crecen, se multiplican con innecesarias secuelas y precuelas, y si algún día llegan a morir, es que nunca merecieron semejante consideración. Vemos personajes con los que desearíamos tomar una copa, a los que nos gustaría llegar a conocer, y por los que probablemente sentimos un cariño especial. Para una generación, Rocky Balboa es una leyenda. Tardíamente, para mí también. Y sí, influye mi particular pasión por el boxeo y el subgénero cinematográfico que ha creado este deporte. Yo soy de emocionarme con Paul Newman en \"Marcado por el odio\", por Robert de Niro en \"Toro Salvaje\", e incluso por Russell Crowe en \"Cinderella Man\". Guiño especial para el Robert Ryan de \"The Set-Up\", del maestro Robert Wise.\"Rocky\" (1976) nos (me) conmovió por ser la típica historia de un tipo normal, del montón tirando a poca cosa. Era un personaje al que le ofrecieron un puñado de dólares para que un campeón de boxeo ganara tres veces más y engordara su orgullo. Le costaba hilar cuatro frases seguidas. Era tímido, pero con un punto ingenioso, más por su inocencia que otra cosa. Pero por encima de todo, se subió a un ring sabiendo que iba a recibir una paliza. Le daba igual. Porque en aquella maravillosa película de John G. Avildsen, Rocky nos enseñaba que lo importante muchas veces no es ganar en esta vida, sino mantenerte de pie y aguantar los envites cuando ésta golpea duro, hacerle saber que no tienes miedo y que habrá de pasar por encima tuya antes de que tires la toalla. La victoria no es un título, sino un estado emocional.\"Rocky Balboa\" es una sombra de aquella maravilla de 1976. Han pasado 30 años. Y la película tiene el mismo patrón que las cuatro continuaciones que intentaron explotar la historia del infeliz que conquista la gloria sin llegar a triunfar. Fueron basura, concebidas para hacer dinero con un mito, pensando erróneamente que engordaban la leyenda. Da náuseas recordar a Rocky embutido en las calzonas con los colores de USA pegándose con aquel ruso avieso de Ivan Drago. Ahora, hay un tipo viejo, decadente, que vive de contar batallitas en su restaurante, viudo, y que tan solo necesita sentirse vivo una vez más. La película no vale gran cosa, pero al menos no avergüenza, como el póker de despropósitos que Stallone puso en marcha tras el arrollador éxito de la original.Esta no te hace llorar. Apenas te lleva a recordar cuando Rocky escuchaba, en los últimos instantes de la primera película, y con la inconfundible melodía de Bill Conti de fondo, que el \"ring announcer\" daba por vencedor a Apollo Creed, pero su única preocupación era abrazarse con la frágil Adrian, esa presencia que merodea \"Rocky Balboa\" y no se encuentra por ningún lado. Stallone se homenajea a sí mismo, o quizás sencillamente procura eso, mantener viva una leyenda no viendo su presente, sino dando motivos para recordar el pasado. Puede que busque transportar de entonces las emociones que su película ya no suscita. No obstante, se mantiene dentro de lo formalmente decente. Ese es el espíritu de Rocky, del \"Potro Italiano\", aunque puede que no de sus películas. Larga vida a la leyenda, campeón.\n"
     ]
    }
   ],
   "source": [
    "i = random.randint(0, len(X_train))\n",
    "print('ID: {}'.format(i))\n",
    "print('Sentiment: {}'.format(y_train.iloc[i]))\n",
    "print('Review: {}'.format(X_train.iloc[i]))"
   ]
  },
  {
   "cell_type": "code",
   "execution_count": 20,
   "metadata": {},
   "outputs": [
    {
     "name": "stdout",
     "output_type": "stream",
     "text": [
      "Top 10 words with highest TF_IDF in the review 1231:\n",
      "             tfidf\n",
      "rocky     0.604635\n",
      "leyenda   0.235880\n",
      "recordar  0.168153\n",
      "por       0.149853\n",
      "stallone  0.144281\n",
      "robert    0.143945\n",
      "daba      0.126774\n",
      "cosa      0.106265\n",
      "aquella   0.099079\n",
      "sino      0.094289\n",
      "\n",
      "Top 10 words with lowest TF_IDF in the review 1231:\n",
      "         tfidf\n",
      "me    0.021220\n",
      "ser   0.020339\n",
      "cine  0.020136\n",
      "ha    0.019951\n",
      "ya    0.019515\n",
      "este  0.019172\n",
      "sus   0.018471\n",
      "sin   0.018383\n",
      "todo  0.018148\n",
      "como  0.014111\n"
     ]
    }
   ],
   "source": [
    "doc_vector = X_train_[i]\n",
    "df_tfidf = pd.DataFrame(doc_vector.T.todense(), index=cv.get_feature_names(), columns=['tfidf'])\n",
    "df_tfidf = df_tfidf[df_tfidf['tfidf'] > 0]\n",
    "\n",
    "top_n = 10\n",
    "print('Top {} words with highest TF_IDF in the review {}:\\n{}'.format(top_n, i, df_tfidf.sort_values(by=[\"tfidf\"],ascending=False)[:top_n]))\n",
    "print('\\nTop {} words with lowest TF_IDF in the review {}:\\n{}'.format(top_n, i, df_tfidf.sort_values(by=[\"tfidf\"],ascending=False)[-top_n:]))"
   ]
  },
  {
   "cell_type": "markdown",
   "metadata": {},
   "source": [
    "## $\\chi²$ scores"
   ]
  },
  {
   "cell_type": "code",
   "execution_count": 21,
   "metadata": {},
   "outputs": [
    {
     "data": {
      "image/png": "[encoded data removed]",
      "text/plain": [
       "<Figure size 864x576 with 1 Axes>"
      ]
     },
     "metadata": {
      "needs_background": "light"
     },
     "output_type": "display_data"
    }
   ],
   "source": [
    "# Compute the chi-squared score for each word in the training set and show the values\n",
    "i = 15\n",
    "\n",
    "chi2score = chi2(X_train_, y_train)[0]\n",
    "scores = list(zip(cv.get_feature_names(), chi2score))\n",
    "sorted_scores = sorted(scores, key=lambda x:x[1])\n",
    "topchi2 = list(zip(*sorted_scores[-i:]))\n",
    "x = range(len(topchi2[1]))\n",
    "labels = topchi2[0]\n",
    "\n",
    "plt.figure(figsize=(12, 8))\n",
    "plt.barh(x,topchi2[1], align='center', alpha=0.5)\n",
    "plt.plot(topchi2[1], x, '-o', markersize=5, alpha=0.8)\n",
    "plt.yticks(x, labels, fontsize=12)\n",
    "plt.xlabel('$\\chi^2$', fontsize=26)\n",
    "plt.ylabel('word', fontsize=16)\n",
    "plt.title('Top {} $\\chi^2$ score for each word in the training set'.format(i), fontsize=20)\n",
    "plt.grid()\n",
    "plt.tight_layout()\n",
    "plt.show();"
   ]
  },
  {
   "cell_type": "markdown",
   "metadata": {},
   "source": [
    "# Entrenamiento"
   ]
  },
  {
   "cell_type": "code",
   "execution_count": 22,
   "metadata": {},
   "outputs": [
    {
     "name": "stdout",
     "output_type": "stream",
     "text": [
      "Accuracy for C=0.01: 0.6597938144329897\n",
      "Accuracy for C=0.05: 0.6597938144329897\n",
      "Accuracy for C=0.25: 0.6876288659793814\n",
      "Accuracy for C=0.5: 0.7381443298969073\n",
      "Accuracy for C=1: 0.765979381443299\n",
      "Accuracy for C=10: 0.7896907216494845\n",
      "Accuracy for C=100: 0.7855670103092783\n",
      "Accuracy for C=1000: 0.7680412371134021\n",
      "Accuracy for C=10000: 0.756701030927835\n"
     ]
    }
   ],
   "source": [
    "c_params = [0.01, 0.05, 0.25, 0.5, 1, 10, 100, 1000, 10000]\n",
    "\n",
    "train_acc = list()\n",
    "test_acc = list()\n",
    "for c in c_params:\n",
    "    lr = LogisticRegression(C=c, solver='lbfgs', max_iter=500)\n",
    "    lr.fit(X_train_, y_train)\n",
    "    \n",
    "    train_predict = lr.predict(X_train_)\n",
    "    test_predict = lr.predict(X_test_)\n",
    "    \n",
    "    print (\"Accuracy for C={}: {}\".format(c, accuracy_score(y_test, test_predict)))\n",
    "    \n",
    "    train_acc.append(accuracy_score(y_train, train_predict))\n",
    "    test_acc.append(accuracy_score(y_test, test_predict))"
   ]
  },
  {
   "cell_type": "markdown",
   "metadata": {},
   "source": [
    "# Algunas métricas"
   ]
  },
  {
   "cell_type": "code",
   "execution_count": 23,
   "metadata": {},
   "outputs": [
    {
     "name": "stdout",
     "output_type": "stream",
     "text": [
      "Confussion matrix:\n",
      "[[543  97]\n",
      " [139 191]]\n",
      "\n",
      "Classification report:\n",
      "              precision    recall  f1-score   support\n",
      "\n",
      "           0       0.80      0.85      0.82       640\n",
      "           1       0.66      0.58      0.62       330\n",
      "\n",
      "    accuracy                           0.76       970\n",
      "   macro avg       0.73      0.71      0.72       970\n",
      "weighted avg       0.75      0.76      0.75       970\n",
      "\n",
      "Accuracy score:0.756701030927835\n"
     ]
    }
   ],
   "source": [
    "print('Confussion matrix:\\n{}'.format(confusion_matrix(y_test, test_predict)))\n",
    "print('\\nClassification report:\\n{}'.format(classification_report(y_test, test_predict)))\n",
    "print('Accuracy score:{}'.format(accuracy_score(y_test, test_predict)))"
   ]
  },
  {
   "cell_type": "code",
   "execution_count": 24,
   "metadata": {},
   "outputs": [
    {
     "data": {
      "image/png": "[encoded data removed]",
      "text/plain": [
       "<Figure size 864x576 with 1 Axes>"
      ]
     },
     "metadata": {
      "needs_background": "light"
     },
     "output_type": "display_data"
    }
   ],
   "source": [
    "plt.figure(figsize=(12, 8))\n",
    "plt.plot(train_acc, label='train')\n",
    "plt.plot(test_acc, label='test')\n",
    "plt.axvline(np.argmax(test_acc), c='g', ls='--', alpha=0.8)\n",
    "plt.title('Accuracy evolution for different C values')\n",
    "plt.xlabel('C')\n",
    "plt.ylabel('Accuracy')\n",
    "plt.legend()\n",
    "plt.grid()\n",
    "plt.xticks(list(range(len(c_params))), c_params)\n",
    "plt.tight_layout()\n",
    "plt.show()"
   ]
  },
  {
   "cell_type": "code",
   "execution_count": 27,
   "metadata": {},
   "outputs": [],
   "source": [
    "p, r, thresholds = precision_recall_curve(y_test, test_predict)"
   ]
  },
  {
   "cell_type": "code",
   "execution_count": 28,
   "metadata": {},
   "outputs": [],
   "source": [
    "def plot_precision_recall_vs_threshold(precisions, recalls, thresholds):\n",
    "    plt.figure(figsize=(8, 8))\n",
    "    plt.title(\"Precision and Recall Scores as a function of the decision threshold\")\n",
    "    plt.plot(thresholds, precisions[:-1], \"b--\", label=\"Precision\")\n",
    "    plt.plot(thresholds, recalls[:-1], \"g-\", label=\"Recall\")\n",
    "    plt.ylabel(\"Score\")\n",
    "    plt.xlabel(\"Decision Threshold\")\n",
    "    plt.legend(loc='best')"
   ]
  },
  {
   "cell_type": "code",
   "execution_count": 29,
   "metadata": {},
   "outputs": [
    {
     "data": {
      "image/png": "[encoded data removed]",
      "text/plain": [
       "<Figure size 576x576 with 1 Axes>"
      ]
     },
     "metadata": {
      "needs_background": "light"
     },
     "output_type": "display_data"
    }
   ],
   "source": [
    "plot_precision_recall_vs_threshold(p, r, thresholds)"
   ]
  },
  {
   "cell_type": "markdown",
   "metadata": {},
   "source": [
    "# Predict"
   ]
  },
  {
   "cell_type": "code",
   "execution_count": 50,
   "metadata": {},
   "outputs": [],
   "source": [
    "def predict_review_sentiment(review_index, model):\n",
    "    print('Actual sentiment: {}'.format(df.iloc[review_index]['sentiment_label']))\n",
    "    r = df.iloc[review_index]['review']\n",
    "    print('Prediction: {}'.format(lr.predict(cv.transform([r]))))"
   ]
  },
  {
   "cell_type": "code",
   "execution_count": 51,
   "metadata": {},
   "outputs": [
    {
     "name": "stdout",
     "output_type": "stream",
     "text": [
      "\n",
      "Review no. 1991\n",
      "Actual sentiment: 0\n",
      "Prediction: [0]\n",
      "\n",
      "Review no. 1106\n",
      "Actual sentiment: 0\n",
      "Prediction: [0]\n",
      "\n",
      "Review no. 1634\n",
      "Actual sentiment: 0\n",
      "Prediction: [0]\n",
      "\n",
      "Review no. 3528\n",
      "Actual sentiment: 0\n",
      "Prediction: [0]\n",
      "\n",
      "Review no. 1606\n",
      "Actual sentiment: 1\n",
      "Prediction: [1]\n"
     ]
    }
   ],
   "source": [
    "for i in random.sample(range(0, len(df)), 5):\n",
    "    print('\\nReview no. {}'.format(i))\n",
    "    predict_review_sentiment(i, lr)"
   ]
  },
  {
   "cell_type": "code",
   "execution_count": null,
   "metadata": {},
   "outputs": [],
   "source": []
  }
 ],
 "metadata": {
  "kernelspec": {
   "display_name": "Python 3",
   "language": "python",
   "name": "python3"
  },
  "language_info": {
   "codemirror_mode": {
    "name": "ipython",
    "version": 3
   },
   "file_extension": ".py",
   "mimetype": "text/x-python",
   "name": "python",
   "nbconvert_exporter": "python",
   "pygments_lexer": "ipython3",
   "version": "3.8.5"
  }
 },
 "nbformat": 4,
 "nbformat_minor": 2
}
