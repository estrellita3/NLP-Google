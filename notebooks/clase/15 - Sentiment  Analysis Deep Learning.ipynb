{
  "nbformat": 4,
  "nbformat_minor": 0,
  "metadata": {
    "colab": {
      "name": "15 - Sentiment Analysis Deep Learning.ipynb",
      "provenance": [],
      "collapsed_sections": []
    },
    "kernelspec": {
      "name": "python3",
      "display_name": "Python 3"
    },
    "language_info": {
      "name": "python"
    }
  },
  "cells": [
    {
      "cell_type": "markdown",
      "source": [
        "# 1. Obtención de datos"
      ],
      "metadata": {
        "id": "PNo8Y9k1TjF9"
      }
    },
    {
      "cell_type": "code",
      "execution_count": 1,
      "metadata": {
        "colab": {
          "base_uri": "https://localhost:8080/"
        },
        "id": "rTBdMobLS6bj",
        "outputId": "ad9438a0-4022-4730-c7e8-47f37d590484"
      },
      "outputs": [
        {
          "output_type": "stream",
          "name": "stdout",
          "text": [
            "--2022-02-07 20:40:11--  http://ai.stanford.edu/~amaas/data/sentiment/aclImdb_v1.tar.gz\n",
            "Resolving ai.stanford.edu (ai.stanford.edu)... 171.64.68.10\n",
            "Connecting to ai.stanford.edu (ai.stanford.edu)|171.64.68.10|:80... connected.\n",
            "HTTP request sent, awaiting response... 200 OK\n",
            "Length: 84125825 (80M) [application/x-gzip]\n",
            "Saving to: ‘aclImdb_v1.tar.gz’\n",
            "\n",
            "aclImdb_v1.tar.gz   100%[===================>]  80.23M  23.0MB/s    in 4.7s    \n",
            "\n",
            "2022-02-07 20:40:16 (17.1 MB/s) - ‘aclImdb_v1.tar.gz’ saved [84125825/84125825]\n",
            "\n"
          ]
        }
      ],
      "source": [
        "! wget http://ai.stanford.edu/~amaas/data/sentiment/aclImdb_v1.tar.gz\n",
        "! tar -xf aclImdb_v1.tar.gz"
      ]
    },
    {
      "cell_type": "markdown",
      "source": [
        "# 2. Exploración de datos"
      ],
      "metadata": {
        "id": "3tSeoXf5TmkZ"
      }
    },
    {
      "cell_type": "code",
      "source": [
        "import os\n",
        "import glob\n",
        "\n",
        "def read_imdb_data(data_dir='./aclImdb'):\n",
        "    \"\"\"Read IMDb movie reviews from given directory.\n",
        "    \n",
        "    Directory structure expected:\n",
        "    - data/\n",
        "        - train/\n",
        "            - pos/\n",
        "            - neg/\n",
        "        - test/\n",
        "            - pos/\n",
        "            - neg/\n",
        "    \n",
        "    \"\"\"\n",
        "\n",
        "    # Datos y etiquetas que se devolveran en dict anidades replicando la estructura de directorios\n",
        "    data = {}\n",
        "    labels = {}\n",
        "\n",
        "    # Asumimos 2 subdirectorios: train y test\n",
        "    for data_type in ['train', 'test']:\n",
        "        data[data_type] = {}\n",
        "        labels[data_type] = {}\n",
        "\n",
        "        # Asumimos 2 subdirectorios por sentimmiento (etiqueta): pos, neg\n",
        "        for sentiment in ['pos', 'neg']:\n",
        "            data[data_type][sentiment] = []\n",
        "            labels[data_type][sentiment] = []\n",
        "            \n",
        "            # Recogemos los ficheros por directorio\n",
        "            path = os.path.join(data_dir, data_type, sentiment, '*.txt')\n",
        "            files = glob.glob(path)\n",
        "            \n",
        "            # Leemos los datos y les asignamos a su etiqueta\n",
        "            for f in files:\n",
        "                with open(f) as review:\n",
        "                    data[data_type][sentiment].append(review.read())\n",
        "                    labels[data_type][sentiment].append(sentiment)\n",
        "            \n",
        "            assert len(data[data_type][sentiment]) == len(labels[data_type][sentiment]), \\\n",
        "                    \"{}/{} data size does not match labels size\".format(data_type, sentiment)\n",
        "    \n",
        "    # Devolvemos los datos y etiquetas en diccionarios anidados\n",
        "    return data, labels\n",
        "\n",
        "\n",
        "data, labels = read_imdb_data()\n",
        "print(\"IMDb reviews: train = {} pos / {} neg, test = {} pos / {} neg\".format(\n",
        "        len(data['train']['pos']), len(data['train']['neg']),\n",
        "        len(data['test']['pos']), len(data['test']['neg'])))"
      ],
      "metadata": {
        "colab": {
          "base_uri": "https://localhost:8080/"
        },
        "id": "CgfrUjI-Tif3",
        "outputId": "1495dfa1-46d9-446b-8dc3-98c188ad54bb"
      },
      "execution_count": 2,
      "outputs": [
        {
          "output_type": "stream",
          "name": "stdout",
          "text": [
            "IMDb reviews: train = 12500 pos / 12500 neg, test = 12500 pos / 12500 neg\n"
          ]
        }
      ]
    },
    {
      "cell_type": "code",
      "source": [
        "data[\"train\"][\"pos\"][0]"
      ],
      "metadata": {
        "colab": {
          "base_uri": "https://localhost:8080/",
          "height": 87
        },
        "id": "VumCu7dJT-Jj",
        "outputId": "2d157120-4cf6-43ba-fd48-1978e3d1d8d1"
      },
      "execution_count": 3,
      "outputs": [
        {
          "output_type": "execute_result",
          "data": {
            "application/vnd.google.colaboratory.intrinsic+json": {
              "type": "string"
            },
            "text/plain": [
              "'This was a pretty good movie, I liked it. I thought it was a pretty accurate look at bulimia and how it\\'s not about dieting, it\\'s about having a pain so deep that they have to find a way to deal with it and they choose this. Beth was a very accurately drawn character and in the scene where she confronts her mom about the eating disorder you can see the pain inside her and hear it in her voice and you know how deep the pain is that she is feeling. I also think one of the best lines in the movie is where Beth yells the words, \"It\\'s not about you.\" to her mother. Those words were so true and added so much to that scene in the movie. I think that that scene was definitely the most important scene in that movie.'"
            ]
          },
          "metadata": {},
          "execution_count": 3
        }
      ]
    },
    {
      "cell_type": "code",
      "source": [
        "data[\"train\"][\"neg\"][0]"
      ],
      "metadata": {
        "colab": {
          "base_uri": "https://localhost:8080/",
          "height": 105
        },
        "id": "1M7iaqybUBjx",
        "outputId": "d3a79c0e-d049-42fb-826b-afc9ec95a431"
      },
      "execution_count": 4,
      "outputs": [
        {
          "output_type": "execute_result",
          "data": {
            "application/vnd.google.colaboratory.intrinsic+json": {
              "type": "string"
            },
            "text/plain": [
              "\"Eh, not a particular good slasher flick. So-so acting, effects, decent yet familiar and uninventive soundtrack.<br /><br />There are three deaths in close succession near the beginning of the movie that make for a fairly good scene in which it would seem anything goes. Apart from that, there's a lot of characters wandering around, not realizing what's going on, or chasing after red herrings; more killing of time, than of people. There are other deaths, and the killer is an equal opportunity murderer, not partial to any one implement. The killer also likes to set other people up to kill innocent people as well. The identity isn't revealed towards the end, and motive is pretty thin, and we really don't care.<br /><br />Supposedly the movie takes place around Christmas, but this isn't a major factor. One scene gets lit by Christmas lights, that's about it.<br /><br />The movie is rather dark with a muddy picture most of the time, at least on the videotape I watched. Some of the dialog got a little lost in some of the opening scenes. The ending should have been stronger than it was. We think we realize what happened, although there's a chance something else did.\""
            ]
          },
          "metadata": {},
          "execution_count": 4
        }
      ]
    },
    {
      "cell_type": "code",
      "source": [
        "!pip install wordcloud"
      ],
      "metadata": {
        "colab": {
          "base_uri": "https://localhost:8080/"
        },
        "id": "CjmBLsVaUPfo",
        "outputId": "55951c6e-fd9c-4909-f9ca-22f4e9cda5a2"
      },
      "execution_count": 5,
      "outputs": [
        {
          "output_type": "stream",
          "name": "stdout",
          "text": [
            "Requirement already satisfied: wordcloud in /usr/local/lib/python3.7/dist-packages (1.5.0)\n",
            "Requirement already satisfied: pillow in /usr/local/lib/python3.7/dist-packages (from wordcloud) (7.1.2)\n",
            "Requirement already satisfied: numpy>=1.6.1 in /usr/local/lib/python3.7/dist-packages (from wordcloud) (1.19.5)\n"
          ]
        }
      ]
    },
    {
      "cell_type": "code",
      "source": [
        "import matplotlib.pyplot as plt\n",
        "%matplotlib inline\n",
        "\n",
        "from wordcloud import WordCloud, STOPWORDS\n",
        "\n",
        "sentiment = 'pos'\n",
        "\n",
        "# Combinamos las reviews para el sentimiento deseado\n",
        "combined_text = \" \".join([review for review in data['train'][sentiment]])\n",
        "\n",
        "# Inicializamos el wordcloud\n",
        "wc = WordCloud(background_color='white', max_words=50,\n",
        "        # Actualizamos las stopwords para incluir palabras comunes del tema\n",
        "        stopwords = STOPWORDS.update(['br','film','movie']))\n",
        "\n",
        "plt.imshow(wc.generate(combined_text))\n",
        "plt.axis('off')\n",
        "plt.show()"
      ],
      "metadata": {
        "colab": {
          "base_uri": "https://localhost:8080/",
          "height": 198
        },
        "id": "b62hSn38UZiH",
        "outputId": "fba6687a-8632-4fe1-dce9-c5f6ab793cb1"
      },
      "execution_count": 6,
      "outputs": [
        {
          "output_type": "display_data",
          "data": {
            "image/png": "[encoded data removed]",
            "text/plain": [
              "<Figure size 432x288 with 1 Axes>"
            ]
          },
          "metadata": {
            "needs_background": "light"
          }
        }
      ]
    },
    {
      "cell_type": "code",
      "source": [
        "import matplotlib.pyplot as plt\n",
        "%matplotlib inline\n",
        "\n",
        "from wordcloud import WordCloud, STOPWORDS\n",
        "\n",
        "sentiment = 'neg'\n",
        "\n",
        "combined_text = \" \".join([review for review in data['train'][sentiment]])\n",
        "\n",
        "wc = WordCloud(background_color='white', max_words=50,\n",
        "        stopwords = STOPWORDS.update(['br','film','movie']))\n",
        "\n",
        "plt.imshow(wc.generate(combined_text))\n",
        "plt.axis('off')\n",
        "plt.show()"
      ],
      "metadata": {
        "colab": {
          "base_uri": "https://localhost:8080/",
          "height": 198
        },
        "id": "7w9pmKsuUiVS",
        "outputId": "f9d4e461-5204-468f-8d19-66e2c8823ce1"
      },
      "execution_count": 7,
      "outputs": [
        {
          "output_type": "display_data",
          "data": {
            "image/png": "[encoded data removed]",
            "text/plain": [
              "<Figure size 432x288 with 1 Axes>"
            ]
          },
          "metadata": {
            "needs_background": "light"
          }
        }
      ]
    },
    {
      "cell_type": "code",
      "source": [
        "from sklearn.utils import shuffle\n",
        "\n",
        "def prepare_imdb_data(data):\n",
        "    \"\"\"Prepare training and test sets from IMDb movie reviews.\"\"\"\n",
        "    \n",
        "    # Combinamos los datos de las diferentes etiquetas\n",
        "    data_train = data['train']['pos'] + data['train']['neg']\n",
        "    data_test = data['test']['pos'] + data['test']['neg']\n",
        "    labels_train = labels['train']['pos'] + labels['train']['neg']\n",
        "    labels_test = labels['test']['pos'] + labels['test']['neg']\n",
        "    \n",
        "    # Mezclamos los datos con sus etiquetas\n",
        "    data_train, labels_train = shuffle(data_train, labels_train)\n",
        "    data_test, labels_test = shuffle(data_test, labels_test)\n",
        "    \n",
        "    # Devolvemos unificado training data, test data, training labels, test labets\n",
        "    return data_train, data_test, labels_train, labels_test\n",
        "\n",
        "\n",
        "data_train, data_test, labels_train, labels_test = prepare_imdb_data(data)\n",
        "print(\"IMDb reviews (combined): train = {}, test = {}\".format(len(data_train), len(data_test)))"
      ],
      "metadata": {
        "colab": {
          "base_uri": "https://localhost:8080/"
        },
        "id": "a02WXgrVVSK-",
        "outputId": "b61c347e-d2e5-46fb-9085-fa67c8a7702d"
      },
      "execution_count": 8,
      "outputs": [
        {
          "output_type": "stream",
          "name": "stdout",
          "text": [
            "IMDb reviews (combined): train = 25000, test = 25000\n"
          ]
        }
      ]
    },
    {
      "cell_type": "markdown",
      "source": [
        "# 4. Preprocesamiento"
      ],
      "metadata": {
        "id": "ahh_Bk8TVnNV"
      }
    },
    {
      "cell_type": "code",
      "source": [
        "# BeautifulSoup to easily remove HTML tags\n",
        "from bs4 import BeautifulSoup \n",
        "\n",
        "# RegEx for removing non-letter characters\n",
        "import re\n",
        "\n",
        "# NLTK library for the remaining steps\n",
        "import nltk\n",
        "nltk.download(\"stopwords\")   # download list of stopwords (only once; need not run it again)\n",
        "from nltk.corpus import stopwords # import stopwords\n",
        "\n",
        "from nltk.stem.porter import *\n",
        "stemmer = PorterStemmer()"
      ],
      "metadata": {
        "colab": {
          "base_uri": "https://localhost:8080/"
        },
        "id": "nLFQm_yHVqAy",
        "outputId": "3a475db4-80f9-44f4-ca60-e8843c024f8b"
      },
      "execution_count": 9,
      "outputs": [
        {
          "output_type": "stream",
          "name": "stdout",
          "text": [
            "[nltk_data] Downloading package stopwords to /root/nltk_data...\n",
            "[nltk_data]   Unzipping corpora/stopwords.zip.\n"
          ]
        }
      ]
    },
    {
      "cell_type": "code",
      "source": [
        "def review_to_words(review):\n",
        "    \"\"\"Convert a raw review string into a sequence of words.\"\"\"\n",
        "    \n",
        "    # Eliminamos las etiquetas HTML\n",
        "    text = BeautifulSoup(review, \"html5lib\").get_text()\n",
        "    # Convertimos a minúscula y quitamos todo lo que no sea texto o números\n",
        "    text = re.sub(r\"[^a-zA-Z0-9]\", \" \", text.lower())\n",
        "    # Dividimos por espacios\n",
        "    words = text.split()\n",
        "    # Eliminamos stopwords\n",
        "    words = [w for w in words if w not in stopwords.words(\"english\")]\n",
        "    # Aplicamos stemming\n",
        "    words = [PorterStemmer().stem(w) for w in words]\n",
        "\n",
        "    return words\n",
        "\n",
        "\n",
        "review_to_words(\"\"\"This is just a <em>test</em>.<br/><br />\n",
        "But if it wasn't a test, it would make for a <b>Great</b> movie review!\"\"\")"
      ],
      "metadata": {
        "colab": {
          "base_uri": "https://localhost:8080/"
        },
        "id": "eeuRsmE6WRdl",
        "outputId": "20e0a0a8-b4ec-4880-d132-bb5ac8f3cc4e"
      },
      "execution_count": 10,
      "outputs": [
        {
          "output_type": "execute_result",
          "data": {
            "text/plain": [
              "['test', 'test', 'would', 'make', 'great', 'movi', 'review']"
            ]
          },
          "metadata": {},
          "execution_count": 10
        }
      ]
    },
    {
      "cell_type": "code",
      "source": [
        "import pickle\n",
        "\n",
        "cache_dir = os.path.join(\"cache\", \"sentiment_analysis\")\n",
        "os.makedirs(cache_dir, exist_ok=True)\n",
        "\n",
        "def preprocess_data(data_train, data_test, labels_train, labels_test,\n",
        "                    cache_dir=cache_dir, cache_file=\"preprocessed_data.pkl\"):\n",
        "    \"\"\"Convert each review to words; read from cache if available.\"\"\"\n",
        "\n",
        "    cache_data = None\n",
        "    if cache_file is not None:\n",
        "        try:\n",
        "            with open(os.path.join(cache_dir, cache_file), \"rb\") as f:\n",
        "                cache_data = pickle.load(f)\n",
        "            print(\"Read preprocessed data from cache file:\", cache_file)\n",
        "        except:\n",
        "            pass\n",
        "    \n",
        "    if cache_data is None:\n",
        "        words_train = list(map(review_to_words, data_train))\n",
        "        words_test = list(map(review_to_words, data_test))\n",
        "        \n",
        "        if cache_file is not None:\n",
        "            cache_data = dict(words_train=words_train, words_test=words_test,\n",
        "                              labels_train=labels_train, labels_test=labels_test)\n",
        "            with open(os.path.join(cache_dir, cache_file), \"wb\") as f:\n",
        "                pickle.dump(cache_data, f)\n",
        "            print(\"Wrote preprocessed data to cache file:\", cache_file)\n",
        "    else:\n",
        "        words_train, words_test, labels_train, labels_test = (cache_data['words_train'],\n",
        "                cache_data['words_test'], cache_data['labels_train'], cache_data['labels_test'])\n",
        "    \n",
        "    return words_train, words_test, labels_train, labels_test\n",
        "\n",
        "\n",
        "words_train, words_test, labels_train, labels_test = preprocess_data(\n",
        "        data_train, data_test, labels_train, labels_test)\n",
        "\n",
        "print(\"\\n--- Raw review ---\")\n",
        "print(data_train[1])\n",
        "print(\"\\n--- Preprocessed words ---\")\n",
        "print(words_train[1])\n",
        "print(\"\\n--- Label ---\")\n",
        "print(labels_train[1])"
      ],
      "metadata": {
        "colab": {
          "base_uri": "https://localhost:8080/"
        },
        "id": "Ujche7fZWV6X",
        "outputId": "7403d6a2-7f57-4966-88eb-dec3dc1e4e53"
      },
      "execution_count": 11,
      "outputs": [
        {
          "output_type": "stream",
          "name": "stdout",
          "text": [
            "Wrote preprocessed data to cache file: preprocessed_data.pkl\n",
            "\n",
            "--- Raw review ---\n",
            "I agree with everyone who says that this series was the best of the 'spy' genre. My husband and I were captivated by it when it first aired in the US and watched every episode. I tried at that time to purchase the series (I did tape all of it) but was told by WGBH that it was not available. I even considered writing to Ian Holm to see if he might have a copy! Like others, I purchased and read the Deighton series (in part to understand the complicated plot.) If the original version ever comes available on DVD, I'll be among the first in line to snap up a copy. Ian Holm's portrayal of the vulnerable but courageous Bernard Samson was amazing. (He is always amazing.)\n",
            "\n",
            "--- Preprocessed words ---\n",
            "['agre', 'everyon', 'say', 'seri', 'best', 'spi', 'genr', 'husband', 'captiv', 'first', 'air', 'us', 'watch', 'everi', 'episod', 'tri', 'time', 'purchas', 'seri', 'tape', 'told', 'wgbh', 'avail', 'even', 'consid', 'write', 'ian', 'holm', 'see', 'might', 'copi', 'like', 'other', 'purchas', 'read', 'deighton', 'seri', 'part', 'understand', 'complic', 'plot', 'origin', 'version', 'ever', 'come', 'avail', 'dvd', 'among', 'first', 'line', 'snap', 'copi', 'ian', 'holm', 'portray', 'vulner', 'courag', 'bernard', 'samson', 'amaz', 'alway', 'amaz']\n",
            "\n",
            "--- Label ---\n",
            "pos\n"
          ]
        }
      ]
    },
    {
      "cell_type": "code",
      "source": [
        "import numpy as np\n",
        "from sklearn.feature_extraction.text import CountVectorizer\n",
        "import joblib\n",
        "\n",
        "def extract_BoW_features(words_train, words_test, vocabulary_size=5000,\n",
        "                         cache_dir=cache_dir, cache_file=\"bow_features.pkl\"):\n",
        "    \"\"\"Extract Bag-of-Words for a given set of documents, already preprocessed into words.\"\"\"\n",
        "    \n",
        "    cache_data = None\n",
        "    if cache_file is not None:\n",
        "        try:\n",
        "            with open(os.path.join(cache_dir, cache_file), \"rb\") as f:\n",
        "                cache_data = joblib.load(f)\n",
        "            print(\"Read features from cache file:\", cache_file)\n",
        "        except:\n",
        "            pass\n",
        "    \n",
        "    if cache_data is None:\n",
        "        vectorizer = CountVectorizer(max_features=vocabulary_size,\n",
        "                preprocessor=lambda x: x, tokenizer=lambda x: x)  # already preprocessed\n",
        "        features_train = vectorizer.fit_transform(words_train).toarray()\n",
        "\n",
        "        features_test = vectorizer.transform(words_test).toarray()\n",
        "                \n",
        "        if cache_file is not None:\n",
        "            vocabulary = vectorizer.vocabulary_\n",
        "            cache_data = dict(features_train=features_train, features_test=features_test,\n",
        "                             vocabulary=vocabulary)\n",
        "            with open(os.path.join(cache_dir, cache_file), \"wb\") as f:\n",
        "                joblib.dump(cache_data, f)\n",
        "            print(\"Wrote features to cache file:\", cache_file)\n",
        "    else:\n",
        "        features_train, features_test, vocabulary = (cache_data['features_train'],\n",
        "                cache_data['features_test'], cache_data['vocabulary'])\n",
        "    \n",
        "    return features_train, features_test, vocabulary\n",
        "\n",
        "features_train, features_test, vocabulary = extract_BoW_features(words_train, words_test)\n",
        "\n",
        "print(\"Vocabulary: {} words\".format(len(vocabulary)))\n",
        "\n",
        "import random\n",
        "print(\"Sample words: {}\".format(random.sample(list(vocabulary.keys()), 8)))\n",
        "\n",
        "print(\"\\n--- Preprocessed words ---\")\n",
        "print(words_train[5])\n",
        "print(\"\\n--- Bag-of-Words features ---\")\n",
        "print(features_train[5])\n",
        "print(\"\\n--- Label ---\")\n",
        "print(labels_train[5])"
      ],
      "metadata": {
        "colab": {
          "base_uri": "https://localhost:8080/"
        },
        "id": "o8tT2St8Wqqh",
        "outputId": "e707dde2-6021-47ca-c5b4-2b4f9bb39a0b"
      },
      "execution_count": 12,
      "outputs": [
        {
          "output_type": "stream",
          "name": "stdout",
          "text": [
            "Wrote features to cache file: bow_features.pkl\n",
            "Vocabulary: 5000 words\n",
            "Sample words: ['biblic', 'snl', 'stair', 'uh', 'pour', 'pant', 'chosen', 'plot']\n",
            "\n",
            "--- Preprocessed words ---\n",
            "['woodi', 'allen', 'second', 'movi', 'set', 'london', 'tha', 'tarot', 'card', 'murder', 'kill', 'prostitut', 'london', 'aspir', 'journalist', 'sondra', 'pranski', 'scarlett', 'johansson', 'get', 'tip', 'may', 'lord', 'peter', 'lyman', 'hugh', 'jackman', 'start', 'romanc', 'quickli', 'fall', 'love', 'help', 'stage', 'magician', 'sid', 'waterman', 'woodi', 'allen', 'like', 'see', 'like', 'better', 'rate', 'match', 'point', 'last', 'year', 'shorter', 'move', 'much', 'quickli', 'plot', 'old', 'entertain', 'kept', 'guess', 'till', 'end', 'realli', 'comedi', 'mysteri', 'good', 'comed', 'line', 'allen', 'cours', 'one', 'allen', 'best', 'far', 'better', 'worst', 'act', 'part', 'good', 'allen', 'bad', 'play', 'charact', 'million', 'time', 'gotten', 'tiresom', 'johansson', 'jackman', 'great', 'look', 'fantast', 'give', 'two', 'appeal', 'believ', 'perform', 'also', 'allen', 'surprisingli', 'work', 'sex', 'appeal', 'sequenc', 'bath', 'suit', 'show', 'nice', 'bodi', 'real', 'debit', 'allen', 'still', 'seem', 'unsur', 'shot', 'london', 'match', 'point', 'though', 'mayb', 'get', 'better', 'goe', 'along', 'worth', 'see', 'give', '8']\n",
            "\n",
            "--- Bag-of-Words features ---\n",
            "[0 0 0 ... 0 0 0]\n",
            "\n",
            "--- Label ---\n",
            "pos\n"
          ]
        }
      ]
    },
    {
      "cell_type": "code",
      "source": [
        "plt.plot(features_train[5,:])\n",
        "plt.xlabel('Word')\n",
        "plt.ylabel('Count')\n",
        "plt.show()"
      ],
      "metadata": {
        "colab": {
          "base_uri": "https://localhost:8080/",
          "height": 279
        },
        "id": "wahQ0kz0WvcN",
        "outputId": "439e8da9-a4bd-48a2-8b00-0f426fec8a76"
      },
      "execution_count": 13,
      "outputs": [
        {
          "output_type": "display_data",
          "data": {
            "image/png": "[encoded data removed]",
            "text/plain": [
              "<Figure size 432x288 with 1 Axes>"
            ]
          },
          "metadata": {
            "needs_background": "light"
          }
        }
      ]
    },
    {
      "cell_type": "code",
      "source": [
        "word_freq = features_train.sum(axis=0)\n",
        "\n",
        "sorted_word_freq = np.sort(word_freq)[::-1]\n",
        "\n",
        "plt.plot(sorted_word_freq)\n",
        "plt.gca().set_xscale('log')\n",
        "plt.gca().set_yscale('log')\n",
        "plt.xlabel('Rank')\n",
        "plt.ylabel('Number of occurrences')\n",
        "plt.show()"
      ],
      "metadata": {
        "colab": {
          "base_uri": "https://localhost:8080/",
          "height": 283
        },
        "id": "ZDD50OJ-vVOV",
        "outputId": "01c67091-1eb4-4962-9de8-ce4464384b86"
      },
      "execution_count": 14,
      "outputs": [
        {
          "output_type": "display_data",
          "data": {
            "image/png": "[encoded data removed]",
            "text/plain": [
              "<Figure size 432x288 with 1 Axes>"
            ]
          },
          "metadata": {
            "needs_background": "light"
          }
        }
      ]
    },
    {
      "cell_type": "code",
      "source": [
        "import sklearn.preprocessing as pr\n",
        "\n",
        "features_train = pr.normalize(features_train, axis=1)\n",
        "features_test = pr.normalize(features_test, axis=1)"
      ],
      "metadata": {
        "id": "wpVHk7N3vdoE"
      },
      "execution_count": 15,
      "outputs": []
    },
    {
      "cell_type": "markdown",
      "source": [
        "Debate: ¿Por qué normalizamos los BoW?"
      ],
      "metadata": {
        "id": "ENBuwKdRvzch"
      }
    },
    {
      "cell_type": "markdown",
      "source": [
        "# 4. Entrenamiento"
      ],
      "metadata": {
        "id": "7irloKrKwC9u"
      }
    },
    {
      "cell_type": "code",
      "source": [
        "from sklearn.ensemble import GradientBoostingClassifier\n",
        "\n",
        "n_estimators = 32\n",
        "\n",
        "def classify_gboost(X_train, X_test, y_train, y_test):        \n",
        "    clf = GradientBoostingClassifier(n_estimators=n_estimators, learning_rate=1.0, max_depth=1, random_state=42)\n",
        "\n",
        "    clf.fit(X_train, y_train)\n",
        "    \n",
        "    print(\"[{}] Accuracy: train = {}, test = {}\".format(\n",
        "            clf.__class__.__name__,\n",
        "            clf.score(X_train, y_train),\n",
        "            clf.score(X_test, y_test)))\n",
        "    \n",
        "    return clf\n",
        "\n",
        "\n",
        "clf2 = classify_gboost(features_train, features_test, labels_train, labels_test)"
      ],
      "metadata": {
        "colab": {
          "base_uri": "https://localhost:8080/"
        },
        "id": "0A_r612Fv56f",
        "outputId": "f8cfd00b-a3b9-44ea-c353-184637be4162"
      },
      "execution_count": 16,
      "outputs": [
        {
          "output_type": "stream",
          "name": "stdout",
          "text": [
            "[GradientBoostingClassifier] Accuracy: train = 0.79472, test = 0.79004\n"
          ]
        }
      ]
    },
    {
      "cell_type": "markdown",
      "source": [
        "# 5. Pasamos a Deep Learning!"
      ],
      "metadata": {
        "id": "zTYamnpnwTRD"
      }
    },
    {
      "cell_type": "code",
      "source": [
        "from keras.datasets import imdb\n",
        "\n",
        "vocabulary_size = 5000\n",
        "\n",
        "(X_train, y_train), (X_test, y_test) = imdb.load_data(num_words=vocabulary_size)\n",
        "print(\"Loaded dataset with {} training samples, {} test samples\".format(len(X_train), len(X_test)))"
      ],
      "metadata": {
        "colab": {
          "base_uri": "https://localhost:8080/"
        },
        "id": "Xj66XsTEwXj9",
        "outputId": "0c8a8cd1-88f1-418d-fa42-8136eb6000e2"
      },
      "execution_count": 17,
      "outputs": [
        {
          "output_type": "stream",
          "name": "stdout",
          "text": [
            "Downloading data from https://storage.googleapis.com/tensorflow/tf-keras-datasets/imdb.npz\n",
            "17465344/17464789 [==============================] - 0s 0us/step\n",
            "17473536/17464789 [==============================] - 0s 0us/step\n",
            "Loaded dataset with 25000 training samples, 25000 test samples\n"
          ]
        }
      ]
    },
    {
      "cell_type": "code",
      "source": [
        "(X_train_example, y_train_example), (X_test_example, y_test_example) = imdb.load_data(num_words=vocabulary_size)"
      ],
      "metadata": {
        "id": "dopxGqf0QUX5"
      },
      "execution_count": 30,
      "outputs": []
    },
    {
      "cell_type": "code",
      "source": [
        "print(\"--- Review ---\")\n",
        "print(X_train[0])\n",
        "print(\"--- Label ---\")\n",
        "print(y_train[0])"
      ],
      "metadata": {
        "colab": {
          "base_uri": "https://localhost:8080/"
        },
        "id": "EGe9QIBGwsP9",
        "outputId": "7cad0503-c90d-412b-d63a-a5d25953c1ef"
      },
      "execution_count": 18,
      "outputs": [
        {
          "output_type": "stream",
          "name": "stdout",
          "text": [
            "--- Review ---\n",
            "[1, 14, 22, 16, 43, 530, 973, 1622, 1385, 65, 458, 4468, 66, 3941, 4, 173, 36, 256, 5, 25, 100, 43, 838, 112, 50, 670, 2, 9, 35, 480, 284, 5, 150, 4, 172, 112, 167, 2, 336, 385, 39, 4, 172, 4536, 1111, 17, 546, 38, 13, 447, 4, 192, 50, 16, 6, 147, 2025, 19, 14, 22, 4, 1920, 4613, 469, 4, 22, 71, 87, 12, 16, 43, 530, 38, 76, 15, 13, 1247, 4, 22, 17, 515, 17, 12, 16, 626, 18, 2, 5, 62, 386, 12, 8, 316, 8, 106, 5, 4, 2223, 2, 16, 480, 66, 3785, 33, 4, 130, 12, 16, 38, 619, 5, 25, 124, 51, 36, 135, 48, 25, 1415, 33, 6, 22, 12, 215, 28, 77, 52, 5, 14, 407, 16, 82, 2, 8, 4, 107, 117, 2, 15, 256, 4, 2, 7, 3766, 5, 723, 36, 71, 43, 530, 476, 26, 400, 317, 46, 7, 4, 2, 1029, 13, 104, 88, 4, 381, 15, 297, 98, 32, 2071, 56, 26, 141, 6, 194, 2, 18, 4, 226, 22, 21, 134, 476, 26, 480, 5, 144, 30, 2, 18, 51, 36, 28, 224, 92, 25, 104, 4, 226, 65, 16, 38, 1334, 88, 12, 16, 283, 5, 16, 4472, 113, 103, 32, 15, 16, 2, 19, 178, 32]\n",
            "--- Label ---\n",
            "1\n"
          ]
        }
      ]
    },
    {
      "cell_type": "code",
      "source": [
        "word2id = imdb.get_word_index()\n",
        "id2word = {i: word for word, i in word2id.items()}\n",
        "print(\"--- Review (with words) ---\")\n",
        "print([id2word.get(i, \" \") for i in X_train[0]])\n",
        "print(\"--- Label ---\")\n",
        "print(y_train[0])"
      ],
      "metadata": {
        "colab": {
          "base_uri": "https://localhost:8080/"
        },
        "id": "cioT16suxoCi",
        "outputId": "a35d4572-ca95-4987-d5bc-943ac8c751db"
      },
      "execution_count": 20,
      "outputs": [
        {
          "output_type": "stream",
          "name": "stdout",
          "text": [
            "--- Review (with words) ---\n",
            "['the', 'as', 'you', 'with', 'out', 'themselves', 'powerful', 'lets', 'loves', 'their', 'becomes', 'reaching', 'had', 'journalist', 'of', 'lot', 'from', 'anyone', 'to', 'have', 'after', 'out', 'atmosphere', 'never', 'more', 'room', 'and', 'it', 'so', 'heart', 'shows', 'to', 'years', 'of', 'every', 'never', 'going', 'and', 'help', 'moments', 'or', 'of', 'every', 'chest', 'visual', 'movie', 'except', 'her', 'was', 'several', 'of', 'enough', 'more', 'with', 'is', 'now', 'current', 'film', 'as', 'you', 'of', 'mine', 'potentially', 'unfortunately', 'of', 'you', 'than', 'him', 'that', 'with', 'out', 'themselves', 'her', 'get', 'for', 'was', 'camp', 'of', 'you', 'movie', 'sometimes', 'movie', 'that', 'with', 'scary', 'but', 'and', 'to', 'story', 'wonderful', 'that', 'in', 'seeing', 'in', 'character', 'to', 'of', '70s', 'and', 'with', 'heart', 'had', 'shadows', 'they', 'of', 'here', 'that', 'with', 'her', 'serious', 'to', 'have', 'does', 'when', 'from', 'why', 'what', 'have', 'critics', 'they', 'is', 'you', 'that', \"isn't\", 'one', 'will', 'very', 'to', 'as', 'itself', 'with', 'other', 'and', 'in', 'of', 'seen', 'over', 'and', 'for', 'anyone', 'of', 'and', 'br', \"show's\", 'to', 'whether', 'from', 'than', 'out', 'themselves', 'history', 'he', 'name', 'half', 'some', 'br', 'of', 'and', 'odd', 'was', 'two', 'most', 'of', 'mean', 'for', '1', 'any', 'an', 'boat', 'she', 'he', 'should', 'is', 'thought', 'and', 'but', 'of', 'script', 'you', 'not', 'while', 'history', 'he', 'heart', 'to', 'real', 'at', 'and', 'but', 'when', 'from', 'one', 'bit', 'then', 'have', 'two', 'of', 'script', 'their', 'with', 'her', 'nobody', 'most', 'that', 'with', \"wasn't\", 'to', 'with', 'armed', 'acting', 'watch', 'an', 'for', 'with', 'and', 'film', 'want', 'an']\n",
            "--- Label ---\n",
            "1\n"
          ]
        }
      ]
    },
    {
      "cell_type": "code",
      "source": [
        "max = 0\n",
        "mean = []\n",
        "for example in X_train_example:\n",
        "  length = len(example)\n",
        "  mean.append(len(example))\n",
        "  if length > max:\n",
        "    max = length"
      ],
      "metadata": {
        "id": "LA8o4_grO7d2"
      },
      "execution_count": 31,
      "outputs": []
    },
    {
      "cell_type": "code",
      "source": [
        "sum(mean) / len(mean)"
      ],
      "metadata": {
        "colab": {
          "base_uri": "https://localhost:8080/"
        },
        "id": "2rlL5JDwP_3i",
        "outputId": "024a580f-9913-4f52-fcb5-94bbe575d641"
      },
      "execution_count": 33,
      "outputs": [
        {
          "output_type": "execute_result",
          "data": {
            "text/plain": [
              "238.71364"
            ]
          },
          "metadata": {},
          "execution_count": 33
        }
      ]
    },
    {
      "cell_type": "code",
      "source": [
        "max"
      ],
      "metadata": {
        "colab": {
          "base_uri": "https://localhost:8080/"
        },
        "id": "Ufc7drzvP4rS",
        "outputId": "5d8c58a7-767a-4c3f-d1e0-b2453adeab9a"
      },
      "execution_count": 32,
      "outputs": [
        {
          "output_type": "execute_result",
          "data": {
            "text/plain": [
              "2494"
            ]
          },
          "metadata": {},
          "execution_count": 32
        }
      ]
    },
    {
      "cell_type": "code",
      "source": [
        "from keras.preprocessing import sequence\n",
        "\n",
        "max_words = 500\n",
        "\n",
        "X_train = sequence.pad_sequences(X_train, maxlen=max_words)\n",
        "X_test = sequence.pad_sequences(X_test, maxlen=max_words)"
      ],
      "metadata": {
        "id": "RqtlMBFXylcY"
      },
      "execution_count": 22,
      "outputs": []
    },
    {
      "cell_type": "code",
      "source": [
        "from keras.models import Sequential\n",
        "from keras.layers import Embedding, LSTM, Dense, Dropout, GRUV2, SimpleRNN\n",
        "\n",
        "embedding_size = 32\n",
        "model = Sequential()\n",
        "model.add(Embedding(vocabulary_size, embedding_size, input_length=max_words))\n",
        "model.add(LSTM(100))\n",
        "model.add(Dense(1, activation='sigmoid'))\n",
        "\n",
        "print(model.summary())"
      ],
      "metadata": {
        "colab": {
          "base_uri": "https://localhost:8080/"
        },
        "id": "tf8h5j-Qy4JM",
        "outputId": "cc2e116d-2102-433a-c314-6bec7f5fd52c"
      },
      "execution_count": 23,
      "outputs": [
        {
          "output_type": "stream",
          "name": "stdout",
          "text": [
            "Model: \"sequential_1\"\n",
            "_________________________________________________________________\n",
            " Layer (type)                Output Shape              Param #   \n",
            "=================================================================\n",
            " embedding (Embedding)       (None, 500, 32)           160000    \n",
            "                                                                 \n",
            " lstm (LSTM)                 (None, 100)               53200     \n",
            "                                                                 \n",
            " dense (Dense)               (None, 1)                 101       \n",
            "                                                                 \n",
            "=================================================================\n",
            "Total params: 213,301\n",
            "Trainable params: 213,301\n",
            "Non-trainable params: 0\n",
            "_________________________________________________________________\n",
            "None\n"
          ]
        }
      ]
    },
    {
      "cell_type": "code",
      "source": [
        "model.compile(loss='binary_crossentropy', optimizer='adam', metrics=['accuracy'])"
      ],
      "metadata": {
        "id": "fiYzO7t8y8cI"
      },
      "execution_count": 24,
      "outputs": []
    },
    {
      "cell_type": "code",
      "source": [
        "batch_size = 64\n",
        "num_epochs = 1\n",
        "\n",
        "X_valid, y_valid = X_train[:batch_size], y_train[:batch_size]  # first batch_size samples\n",
        "X_train2, y_train2 = X_train[batch_size:], y_train[batch_size:]  # rest for training\n",
        "\n",
        "model.fit(X_train2, y_train2,\n",
        "          validation_data=(X_valid, y_valid),\n",
        "          batch_size=batch_size, epochs=num_epochs)"
      ],
      "metadata": {
        "colab": {
          "base_uri": "https://localhost:8080/"
        },
        "id": "_ENigjgBzA30",
        "outputId": "50932a5d-e9e1-480d-87b6-5bc3b69bf18a"
      },
      "execution_count": 26,
      "outputs": [
        {
          "output_type": "stream",
          "name": "stdout",
          "text": [
            "390/390 [==============================] - 235s 600ms/step - loss: 0.3606 - accuracy: 0.8480 - val_loss: 0.2953 - val_accuracy: 0.8906\n"
          ]
        },
        {
          "output_type": "execute_result",
          "data": {
            "text/plain": [
              "<keras.callbacks.History at 0x7f4a441740d0>"
            ]
          },
          "metadata": {},
          "execution_count": 26
        }
      ]
    },
    {
      "cell_type": "code",
      "source": [
        "model_file = \"lstm_model.h5\"  # HDF5 file\n",
        "model.save(os.path.join(cache_dir, model_file))"
      ],
      "metadata": {
        "id": "LR_gl4ERzKSY"
      },
      "execution_count": 34,
      "outputs": []
    },
    {
      "cell_type": "code",
      "source": [
        "scores = model.evaluate(X_test, y_test, verbose=0)  # returns loss and other metrics specified in model.compile()\n",
        "print(\"Test accuracy:\", scores[1])  # scores[1] should correspond to accuracy if you passed in metrics=['accuracy']"
      ],
      "metadata": {
        "colab": {
          "base_uri": "https://localhost:8080/"
        },
        "id": "9a1FEXr_zM-7",
        "outputId": "536340fb-eb7e-442e-e318-f5f28ffb0c4f"
      },
      "execution_count": 35,
      "outputs": [
        {
          "output_type": "stream",
          "name": "stdout",
          "text": [
            "Test accuracy: 0.8401200175285339\n"
          ]
        }
      ]
    },
    {
      "cell_type": "markdown",
      "source": [
        "Vamos a ver con GRU:"
      ],
      "metadata": {
        "id": "QAscCZtK0c8q"
      }
    },
    {
      "cell_type": "code",
      "source": [
        "embedding_size = 32\n",
        "model_gru = Sequential()\n",
        "model_gru.add(Embedding(vocabulary_size, embedding_size, input_length=max_words))\n",
        "model_gru.add(GRUV2(100))\n",
        "model_gru.add(Dense(1, activation='sigmoid'))\n",
        "\n",
        "print(model_gru.summary())"
      ],
      "metadata": {
        "colab": {
          "base_uri": "https://localhost:8080/"
        },
        "id": "s8sAJFscz-tr",
        "outputId": "b3eca577-d8d8-419e-eabc-4be5205e0d40"
      },
      "execution_count": 36,
      "outputs": [
        {
          "output_type": "stream",
          "name": "stdout",
          "text": [
            "Model: \"sequential_2\"\n",
            "_________________________________________________________________\n",
            " Layer (type)                Output Shape              Param #   \n",
            "=================================================================\n",
            " embedding_1 (Embedding)     (None, 500, 32)           160000    \n",
            "                                                                 \n",
            " gru (GRU)                   (None, 100)               40200     \n",
            "                                                                 \n",
            " dense_1 (Dense)             (None, 1)                 101       \n",
            "                                                                 \n",
            "=================================================================\n",
            "Total params: 200,301\n",
            "Trainable params: 200,301\n",
            "Non-trainable params: 0\n",
            "_________________________________________________________________\n",
            "None\n"
          ]
        }
      ]
    },
    {
      "cell_type": "code",
      "source": [
        "model_gru.compile(loss='binary_crossentropy', optimizer='adam', metrics=['accuracy'])"
      ],
      "metadata": {
        "id": "dfYp0LxU1xhf"
      },
      "execution_count": 37,
      "outputs": []
    },
    {
      "cell_type": "code",
      "source": [
        "batch_size = 64\n",
        "num_epochs = 1\n",
        "\n",
        "X_valid, y_valid = X_train[:batch_size], y_train[:batch_size]  # first batch_size samples\n",
        "X_train2, y_train2 = X_train[batch_size:], y_train[batch_size:]  # rest for training\n",
        "\n",
        "model_gru.fit(X_train2, y_train2,\n",
        "          validation_data=(X_valid, y_valid),\n",
        "          batch_size=batch_size, epochs=num_epochs)"
      ],
      "metadata": {
        "colab": {
          "base_uri": "https://localhost:8080/"
        },
        "id": "1aSdbibz1yzw",
        "outputId": "01aec9ab-6c2b-43de-c172-0ec39bc984ea"
      },
      "execution_count": 38,
      "outputs": [
        {
          "output_type": "stream",
          "name": "stdout",
          "text": [
            "390/390 [==============================] - 200s 506ms/step - loss: 0.4766 - accuracy: 0.7557 - val_loss: 0.2897 - val_accuracy: 0.8906\n"
          ]
        },
        {
          "output_type": "execute_result",
          "data": {
            "text/plain": [
              "<keras.callbacks.History at 0x7f4a388eca50>"
            ]
          },
          "metadata": {},
          "execution_count": 38
        }
      ]
    },
    {
      "cell_type": "code",
      "source": [
        "model_file = \"gru_model.h5\"  # HDF5 file\n",
        "model_gru.save(os.path.join(cache_dir, model_file))"
      ],
      "metadata": {
        "id": "nzNScGZU11sv"
      },
      "execution_count": 39,
      "outputs": []
    },
    {
      "cell_type": "code",
      "source": [
        "scores = model_gru.evaluate(X_test, y_test, verbose=0)  # returns loss and other metrics specified in model.compile()\n",
        "print(\"Test accuracy:\", scores[1])  # scores[1] should correspond to accuracy if you passed in metrics=['accuracy']"
      ],
      "metadata": {
        "colab": {
          "base_uri": "https://localhost:8080/"
        },
        "id": "1LzlI2FO11Pf",
        "outputId": "764045b2-59d4-4d8a-be9e-0ba5d614175c"
      },
      "execution_count": 40,
      "outputs": [
        {
          "output_type": "stream",
          "name": "stdout",
          "text": [
            "Test accuracy: 0.8521199822425842\n"
          ]
        }
      ]
    },
    {
      "cell_type": "markdown",
      "source": [
        "Y por último con RNN:"
      ],
      "metadata": {
        "id": "E_5Si51_0fEM"
      }
    },
    {
      "cell_type": "code",
      "source": [
        "embedding_size = 32\n",
        "model_rnn = Sequential()\n",
        "model_rnn.add(Embedding(vocabulary_size, embedding_size, input_length=max_words))\n",
        "model_rnn.add(SimpleRNN(100))\n",
        "model_rnn.add(Dense(1, activation='sigmoid'))\n",
        "\n",
        "print(model_rnn.summary())"
      ],
      "metadata": {
        "colab": {
          "base_uri": "https://localhost:8080/"
        },
        "id": "4cjTljsW0heh",
        "outputId": "63477584-9f5a-49bc-97c0-020adb9a9098"
      },
      "execution_count": 41,
      "outputs": [
        {
          "output_type": "stream",
          "name": "stdout",
          "text": [
            "Model: \"sequential_3\"\n",
            "_________________________________________________________________\n",
            " Layer (type)                Output Shape              Param #   \n",
            "=================================================================\n",
            " embedding_2 (Embedding)     (None, 500, 32)           160000    \n",
            "                                                                 \n",
            " simple_rnn (SimpleRNN)      (None, 100)               13300     \n",
            "                                                                 \n",
            " dense_2 (Dense)             (None, 1)                 101       \n",
            "                                                                 \n",
            "=================================================================\n",
            "Total params: 173,401\n",
            "Trainable params: 173,401\n",
            "Non-trainable params: 0\n",
            "_________________________________________________________________\n",
            "None\n"
          ]
        }
      ]
    },
    {
      "cell_type": "code",
      "source": [
        "model_rnn.compile(loss='binary_crossentropy', optimizer='adam', metrics=['accuracy'])"
      ],
      "metadata": {
        "id": "US7sBsoA1-g1"
      },
      "execution_count": 42,
      "outputs": []
    },
    {
      "cell_type": "code",
      "source": [
        "batch_size = 64\n",
        "num_epochs = 1\n",
        "\n",
        "X_valid, y_valid = X_train[:batch_size], y_train[:batch_size]  # first batch_size samples\n",
        "X_train2, y_train2 = X_train[batch_size:], y_train[batch_size:]  # rest for training\n",
        "\n",
        "model_rnn.fit(X_train2, y_train2,\n",
        "          validation_data=(X_valid, y_valid),\n",
        "          batch_size=batch_size, epochs=num_epochs)"
      ],
      "metadata": {
        "colab": {
          "base_uri": "https://localhost:8080/"
        },
        "id": "VOjkTsmo1_tB",
        "outputId": "29b50080-1d98-423e-ef05-8ad037350c77"
      },
      "execution_count": 43,
      "outputs": [
        {
          "output_type": "stream",
          "name": "stdout",
          "text": [
            "390/390 [==============================] - 84s 213ms/step - loss: 0.6651 - accuracy: 0.5775 - val_loss: 0.5762 - val_accuracy: 0.7031\n"
          ]
        },
        {
          "output_type": "execute_result",
          "data": {
            "text/plain": [
              "<keras.callbacks.History at 0x7f4a4d5d6290>"
            ]
          },
          "metadata": {},
          "execution_count": 43
        }
      ]
    },
    {
      "cell_type": "code",
      "source": [
        "model_file = \"rnn_model.h5\"  # HDF5 file\n",
        "model_rnn.save(os.path.join(cache_dir, model_file))"
      ],
      "metadata": {
        "id": "iUnazEjo2BOD"
      },
      "execution_count": 44,
      "outputs": []
    },
    {
      "cell_type": "code",
      "source": [
        "scores = model_rnn.evaluate(X_test, y_test, verbose=0)  # returns loss and other metrics specified in model.compile()\n",
        "print(\"Test accuracy:\", scores[1])  # scores[1] should correspond to accuracy if you passed in metrics=['accuracy']"
      ],
      "metadata": {
        "colab": {
          "base_uri": "https://localhost:8080/"
        },
        "id": "nfluChJ82C_E",
        "outputId": "7a5555c0-c2e4-480c-8a91-58f3cef5ef49"
      },
      "execution_count": 45,
      "outputs": [
        {
          "output_type": "stream",
          "name": "stdout",
          "text": [
            "Test accuracy: 0.6605600118637085\n"
          ]
        }
      ]
    },
    {
      "cell_type": "markdown",
      "source": [
        "Y si quitamos el Embedding?"
      ],
      "metadata": {
        "id": "aCd568FE0n8y"
      }
    },
    {
      "cell_type": "markdown",
      "source": [
        "# 5. RNN + word2vec Embedding"
      ],
      "metadata": {
        "id": "quunsatuTjOR"
      }
    },
    {
      "cell_type": "code",
      "source": [
        "import gensim\n",
        "import multiprocessing as mp\n",
        "\n",
        "from tensorflow.keras.preprocessing.text import Tokenizer\n",
        "from tensorflow.keras.preprocessing.sequence import pad_sequences\n",
        "from tensorflow.keras.models import Sequential\n",
        "from tensorflow.keras.layers import (\n",
        "    Dense,\n",
        "    Dropout,\n",
        "    Embedding,\n",
        "    LSTM,\n",
        ")\n",
        "from tensorflow.keras.callbacks import ReduceLROnPlateau, EarlyStopping\n",
        "from sklearn.preprocessing import LabelEncoder\n"
      ],
      "metadata": {
        "id": "GbdqedRaT8SR"
      },
      "execution_count": 62,
      "outputs": []
    },
    {
      "cell_type": "code",
      "source": [
        "# WORD2VEC\n",
        "W2V_SIZE = 300\n",
        "W2V_WINDOW = 7\n",
        "# 32\n",
        "W2V_EPOCH = 5\n",
        "W2V_MIN_COUNT = 1\n",
        "\n",
        "# KERAS\n",
        "SEQUENCE_LENGTH = 500"
      ],
      "metadata": {
        "id": "owDKazhkUGfy"
      },
      "execution_count": 63,
      "outputs": []
    },
    {
      "cell_type": "code",
      "source": [
        "def generate_tokenizer(train_df):\n",
        "    tokenizer = Tokenizer()\n",
        "    tokenizer.fit_on_texts(train_df)\n",
        "    vocab_size = len(tokenizer.word_index) + 1\n",
        "    print(f\"Total words: {vocab_size}\")\n",
        "    return tokenizer, vocab_size"
      ],
      "metadata": {
        "id": "0acrxjhaTpHD"
      },
      "execution_count": 68,
      "outputs": []
    },
    {
      "cell_type": "code",
      "source": [
        "def generate_word2vec(train_df):\n",
        "    documents = [_text.split() for _text in train_df.review]\n",
        "    w2v_model = gensim.models.word2vec.Word2Vec(\n",
        "        size=W2V_SIZE,\n",
        "        window=W2V_WINDOW,\n",
        "        min_count=W2V_MIN_COUNT,\n",
        "        workers=mp.cpu_count(),\n",
        "    )\n",
        "    w2v_model.build_vocab(documents)\n",
        "\n",
        "    words = w2v_model.wv.vocab.keys()\n",
        "    vocab_size = len(words)\n",
        "    print(f\"Vocab size: {vocab_size}\")\n",
        "    w2v_model.train(documents, total_examples=len(documents), epochs=W2V_EPOCH)\n",
        "\n",
        "    return w2v_model"
      ],
      "metadata": {
        "id": "Xz4CmbiHUeMW"
      },
      "execution_count": 108,
      "outputs": []
    },
    {
      "cell_type": "code",
      "source": [
        "def generate_embedding(word2vec_model, vocab_size, tokenizer):\n",
        "    embedding_matrix = np.zeros((vocab_size, W2V_SIZE))\n",
        "    for word, i in tokenizer.word_index.items():\n",
        "        if word in word2vec_model.wv:\n",
        "            embedding_matrix[i] = word2vec_model.wv[word]\n",
        "    return Embedding(\n",
        "        vocab_size,\n",
        "        W2V_SIZE,\n",
        "        weights=[embedding_matrix],\n",
        "        input_length=SEQUENCE_LENGTH,\n",
        "        trainable=False,\n",
        "    )"
      ],
      "metadata": {
        "id": "H3vey-qvU-iQ"
      },
      "execution_count": 66,
      "outputs": []
    },
    {
      "cell_type": "code",
      "source": [
        "(X_train_index, y_train_index), (X_test_index, y_test_index) = imdb.load_data(num_words=vocabulary_size)"
      ],
      "metadata": {
        "id": "axtSnGplWlf9"
      },
      "execution_count": 126,
      "outputs": []
    },
    {
      "cell_type": "code",
      "source": [
        "word2id = imdb.get_word_index()\n",
        "id2word = {i: word for word, i in word2id.items()}\n",
        "\n",
        "X_train_words = []\n",
        "for index, example in enumerate(X_train_index):\n",
        "  words = \" \".join([id2word.get(i, \" \") for i in X_train_index[index]]).strip()\n",
        "  X_train_words.append(words)"
      ],
      "metadata": {
        "id": "hjy1w727V6di"
      },
      "execution_count": 127,
      "outputs": []
    },
    {
      "cell_type": "code",
      "source": [
        "X_test_words = []\n",
        "for index, example in enumerate(X_test_index):\n",
        "  words = \" \".join([id2word.get(i, \" \") for i in X_test_index[index]]).strip()\n",
        "  X_test_words.append(words)"
      ],
      "metadata": {
        "id": "KN9f0ayYgibY"
      },
      "execution_count": 128,
      "outputs": []
    },
    {
      "cell_type": "code",
      "source": [
        "X_train_words[10]"
      ],
      "metadata": {
        "colab": {
          "base_uri": "https://localhost:8080/",
          "height": 105
        },
        "id": "cvuqWRhjWVtp",
        "outputId": "eb3f6bfd-9cdc-4f71-b55f-102b7d993c14"
      },
      "execution_count": 129,
      "outputs": [
        {
          "output_type": "execute_result",
          "data": {
            "application/vnd.google.colaboratory.intrinsic+json": {
              "type": "string"
            },
            "text/plain": [
              "\"the clear fact entertaining there life back br is and show of performance stars br actors film him many should movie reasons to and reading and are in of scenes and and of and out compared not boss yes to and show its disappointed fact raw to it justice by br of where clear fact many your way and with city nice are is along wrong not as it way she but this anything up haven't been by who of choices br of you to as this i'd it and who of shot you'll to love for and of you it is sequels of little quest are seen watched front chemistry to simply alive of chris being it is say easy and cry in chemistry but and all it maybe this is wing film job live of and relief and level names and and to be stops serial and watch is men go this of wing american from and moving is accepted put this of jerry for places so work and watch and lot br that from sometimes wondered make department introduced to wondered from action at turns in low that in gay i'm of chemistry bible i i simply alive it is time done inspector to watching look world named for more tells up many fans are that movie music her get grasp but seems in people film that if explain in why for and find of where br if and movie throughout if and of you best look red and to recently in successfully much unfortunately going dan and stuck is him sequences but of you of enough for its br that beautiful put reasons of chris chemistry wing and for of you red time and to as companion and of chris less br of subplots torture in low alive in gay some br of wing if time actual in also side any if name takes for of friendship it of 10 for had and great to as you students for movie of going and for bad well best had at woman br musical when it caused of gripping to as gem in and for and look end gene in at world aliens of you it meet but is quite br western ideas of chris little of films he an time done this were right too to of enough for of ending become family beautiful are make right being it time much bit especially craig for of you parts bond who of here parts at due given movie of once give find actor to recently in at world dolls loved and it is video him fact you to by br of where br of grown fight culture leads\""
            ]
          },
          "metadata": {},
          "execution_count": 129
        }
      ]
    },
    {
      "cell_type": "code",
      "source": [
        "import pandas as pd\n",
        "\n",
        "X_train_words = pd.DataFrame(X_train_words, columns=[\"review\"])\n",
        "X_test_words = pd.DataFrame(X_test_words, columns=[\"review\"])"
      ],
      "metadata": {
        "id": "PIyyQZrYd9RC"
      },
      "execution_count": 134,
      "outputs": []
    },
    {
      "cell_type": "code",
      "source": [
        "X_train_words.head()"
      ],
      "metadata": {
        "colab": {
          "base_uri": "https://localhost:8080/",
          "height": 206
        },
        "id": "ncOKgcgoeJ4p",
        "outputId": "d8be4e6f-f675-4a25-88ef-1ae24e7e29e6"
      },
      "execution_count": 131,
      "outputs": [
        {
          "output_type": "execute_result",
          "data": {
            "text/html": [
              "\n",
              "  <div id=\"df-56f91154-6b6b-4376-8ba6-f0ce5f17517e\">\n",
              "    <div class=\"colab-df-container\">\n",
              "      <div>\n",
              "<style scoped>\n",
              "    .dataframe tbody tr th:only-of-type {\n",
              "        vertical-align: middle;\n",
              "    }\n",
              "\n",
              "    .dataframe tbody tr th {\n",
              "        vertical-align: top;\n",
              "    }\n",
              "\n",
              "    .dataframe thead th {\n",
              "        text-align: right;\n",
              "    }\n",
              "</style>\n",
              "<table border=\"1\" class=\"dataframe\">\n",
              "  <thead>\n",
              "    <tr style=\"text-align: right;\">\n",
              "      <th></th>\n",
              "      <th>review</th>\n",
              "    </tr>\n",
              "  </thead>\n",
              "  <tbody>\n",
              "    <tr>\n",
              "      <th>0</th>\n",
              "      <td>the as you with out themselves powerful lets l...</td>\n",
              "    </tr>\n",
              "    <tr>\n",
              "      <th>1</th>\n",
              "      <td>the thought solid thought and do making to is ...</td>\n",
              "    </tr>\n",
              "    <tr>\n",
              "      <th>2</th>\n",
              "      <td>the as there in at by br of sure many br of an...</td>\n",
              "    </tr>\n",
              "    <tr>\n",
              "      <th>3</th>\n",
              "      <td>the of and and they halfway of identity went p...</td>\n",
              "    </tr>\n",
              "    <tr>\n",
              "      <th>4</th>\n",
              "      <td>the sure themes br only acting i i was favouri...</td>\n",
              "    </tr>\n",
              "  </tbody>\n",
              "</table>\n",
              "</div>\n",
              "      <button class=\"colab-df-convert\" onclick=\"convertToInteractive('df-56f91154-6b6b-4376-8ba6-f0ce5f17517e')\"\n",
              "              title=\"Convert this dataframe to an interactive table.\"\n",
              "              style=\"display:none;\">\n",
              "        \n",
              "  <svg xmlns=\"http://www.w3.org/2000/svg\" height=\"24px\"viewBox=\"0 0 24 24\"\n",
              "       width=\"24px\">\n",
              "    <path d=\"M0 0h24v24H0V0z\" fill=\"none\"/>\n",
              "    <path d=\"M18.56 5.44l.94 2.06.94-2.06 2.06-.94-2.06-.94-.94-2.06-.94 2.06-2.06.94zm-11 1L8.5 8.5l.94-2.06 2.06-.94-2.06-.94L8.5 2.5l-.94 2.06-2.06.94zm10 10l.94 2.06.94-2.06 2.06-.94-2.06-.94-.94-2.06-.94 2.06-2.06.94z\"/><path d=\"M17.41 7.96l-1.37-1.37c-.4-.4-.92-.59-1.43-.59-.52 0-1.04.2-1.43.59L10.3 9.45l-7.72 7.72c-.78.78-.78 2.05 0 2.83L4 21.41c.39.39.9.59 1.41.59.51 0 1.02-.2 1.41-.59l7.78-7.78 2.81-2.81c.8-.78.8-2.07 0-2.86zM5.41 20L4 18.59l7.72-7.72 1.47 1.35L5.41 20z\"/>\n",
              "  </svg>\n",
              "      </button>\n",
              "      \n",
              "  <style>\n",
              "    .colab-df-container {\n",
              "      display:flex;\n",
              "      flex-wrap:wrap;\n",
              "      gap: 12px;\n",
              "    }\n",
              "\n",
              "    .colab-df-convert {\n",
              "      background-color: #E8F0FE;\n",
              "      border: none;\n",
              "      border-radius: 50%;\n",
              "      cursor: pointer;\n",
              "      display: none;\n",
              "      fill: #1967D2;\n",
              "      height: 32px;\n",
              "      padding: 0 0 0 0;\n",
              "      width: 32px;\n",
              "    }\n",
              "\n",
              "    .colab-df-convert:hover {\n",
              "      background-color: #E2EBFA;\n",
              "      box-shadow: 0px 1px 2px rgba(60, 64, 67, 0.3), 0px 1px 3px 1px rgba(60, 64, 67, 0.15);\n",
              "      fill: #174EA6;\n",
              "    }\n",
              "\n",
              "    [theme=dark] .colab-df-convert {\n",
              "      background-color: #3B4455;\n",
              "      fill: #D2E3FC;\n",
              "    }\n",
              "\n",
              "    [theme=dark] .colab-df-convert:hover {\n",
              "      background-color: #434B5C;\n",
              "      box-shadow: 0px 1px 3px 1px rgba(0, 0, 0, 0.15);\n",
              "      filter: drop-shadow(0px 1px 2px rgba(0, 0, 0, 0.3));\n",
              "      fill: #FFFFFF;\n",
              "    }\n",
              "  </style>\n",
              "\n",
              "      <script>\n",
              "        const buttonEl =\n",
              "          document.querySelector('#df-56f91154-6b6b-4376-8ba6-f0ce5f17517e button.colab-df-convert');\n",
              "        buttonEl.style.display =\n",
              "          google.colab.kernel.accessAllowed ? 'block' : 'none';\n",
              "\n",
              "        async function convertToInteractive(key) {\n",
              "          const element = document.querySelector('#df-56f91154-6b6b-4376-8ba6-f0ce5f17517e');\n",
              "          const dataTable =\n",
              "            await google.colab.kernel.invokeFunction('convertToInteractive',\n",
              "                                                     [key], {});\n",
              "          if (!dataTable) return;\n",
              "\n",
              "          const docLinkHtml = 'Like what you see? Visit the ' +\n",
              "            '<a target=\"_blank\" href=https://colab.research.google.com/notebooks/data_table.ipynb>data table notebook</a>'\n",
              "            + ' to learn more about interactive tables.';\n",
              "          element.innerHTML = '';\n",
              "          dataTable['output_type'] = 'display_data';\n",
              "          await google.colab.output.renderOutput(dataTable, element);\n",
              "          const docLink = document.createElement('div');\n",
              "          docLink.innerHTML = docLinkHtml;\n",
              "          element.appendChild(docLink);\n",
              "        }\n",
              "      </script>\n",
              "    </div>\n",
              "  </div>\n",
              "  "
            ],
            "text/plain": [
              "                                              review\n",
              "0  the as you with out themselves powerful lets l...\n",
              "1  the thought solid thought and do making to is ...\n",
              "2  the as there in at by br of sure many br of an...\n",
              "3  the of and and they halfway of identity went p...\n",
              "4  the sure themes br only acting i i was favouri..."
            ]
          },
          "metadata": {},
          "execution_count": 131
        }
      ]
    },
    {
      "cell_type": "code",
      "source": [
        "tokenizer, vocab = generate_tokenizer(X_train_words.review)"
      ],
      "metadata": {
        "colab": {
          "base_uri": "https://localhost:8080/"
        },
        "id": "QXOl-Jb0WW2M",
        "outputId": "2e824936-84a0-4e68-b498-3e25694d21e8"
      },
      "execution_count": 132,
      "outputs": [
        {
          "output_type": "stream",
          "name": "stdout",
          "text": [
            "Total words: 4999\n"
          ]
        }
      ]
    },
    {
      "cell_type": "code",
      "source": [
        "word2vec_model = generate_word2vec(X_train_words)"
      ],
      "metadata": {
        "colab": {
          "base_uri": "https://localhost:8080/"
        },
        "id": "KB-DSk8kYGkG",
        "outputId": "d1be81f3-dfd5-4aa0-a789-266b71faafde"
      },
      "execution_count": 135,
      "outputs": [
        {
          "output_type": "stream",
          "name": "stdout",
          "text": [
            "Vocab size: 4998\n"
          ]
        }
      ]
    },
    {
      "cell_type": "code",
      "source": [
        "from keras.preprocessing import sequence\n",
        "\n",
        "max_words = 500\n",
        "\n",
        "X_train_words = sequence.pad_sequences(tokenizer.texts_to_sequences(X_train_words.review), maxlen=max_words)\n",
        "X_test_words = sequence.pad_sequences(tokenizer.texts_to_sequences(X_test_words.review), maxlen=max_words)"
      ],
      "metadata": {
        "id": "OVZWDmOjaVIi"
      },
      "execution_count": 136,
      "outputs": []
    },
    {
      "cell_type": "code",
      "source": [
        "embedding_layer = generate_embedding(word2vec_model, vocab, tokenizer)"
      ],
      "metadata": {
        "id": "xyyGw__gYlbu"
      },
      "execution_count": 137,
      "outputs": []
    },
    {
      "cell_type": "code",
      "source": [
        "model_custom = Sequential()\n",
        "model_custom.add(embedding_layer)\n",
        "model_custom.add(LSTM(100, dropout=0.2, recurrent_dropout=0.2))\n",
        "model_custom.add(Dense(1, activation=\"sigmoid\"))"
      ],
      "metadata": {
        "id": "XhwslU8BYvVi"
      },
      "execution_count": 138,
      "outputs": []
    },
    {
      "cell_type": "code",
      "source": [
        "model_custom.summary()"
      ],
      "metadata": {
        "colab": {
          "base_uri": "https://localhost:8080/"
        },
        "id": "_Dk6wg5zY8WR",
        "outputId": "67debf49-aaff-40ed-e350-d5bb859d1962"
      },
      "execution_count": 139,
      "outputs": [
        {
          "output_type": "stream",
          "name": "stdout",
          "text": [
            "Model: \"sequential_5\"\n",
            "_________________________________________________________________\n",
            " Layer (type)                Output Shape              Param #   \n",
            "=================================================================\n",
            " embedding_4 (Embedding)     (None, 500, 300)          1499700   \n",
            "                                                                 \n",
            " lstm_2 (LSTM)               (None, 100)               160400    \n",
            "                                                                 \n",
            " dense_4 (Dense)             (None, 1)                 101       \n",
            "                                                                 \n",
            "=================================================================\n",
            "Total params: 1,660,201\n",
            "Trainable params: 160,501\n",
            "Non-trainable params: 1,499,700\n",
            "_________________________________________________________________\n"
          ]
        }
      ]
    },
    {
      "cell_type": "code",
      "source": [
        "model_custom.compile(loss=\"binary_crossentropy\", optimizer=\"adam\", metrics=[\"accuracy\"])"
      ],
      "metadata": {
        "id": "QWpqnw7jY_FM"
      },
      "execution_count": 140,
      "outputs": []
    },
    {
      "cell_type": "code",
      "source": [
        "batch_size = 64\n",
        "num_epochs = 1\n",
        "\n",
        "X_train_words_valid, y_valid = X_train_words[:batch_size], y_train[:batch_size]  # first batch_size samples\n",
        "X_train_words2, y_train2 = X_train_words[batch_size:], y_train[batch_size:]  # rest for training\n",
        "\n",
        "model_custom.fit(X_train_words2, y_train2,\n",
        "          validation_data=(X_train_words_valid, y_valid),\n",
        "          batch_size=batch_size, epochs=num_epochs)"
      ],
      "metadata": {
        "colab": {
          "base_uri": "https://localhost:8080/"
        },
        "id": "KnXrjJ38ZGT4",
        "outputId": "ee7ab09a-9678-47b4-8a56-9a2915e608d2"
      },
      "execution_count": null,
      "outputs": [
        {
          "output_type": "stream",
          "name": "stdout",
          "text": [
            "240/390 [=================>............] - ETA: 5:43 - loss: 0.5035 - accuracy: 0.7582"
          ]
        }
      ]
    }
  ]
}